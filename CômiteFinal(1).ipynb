{
  "cells": [
    {
      "cell_type": "markdown",
      "source": [
        "Nomes dos integrantes: Adrian de Almeida Silva - RA: 821146774 Fernando Su Jia Jie - RA: 821162482 Luiz Carlos Chirutti - RA: 821269633 Marcelo Miguel Ferreira - RA: 821159191 Victor Dias De Araujo Braga - RA: 821148935\n"
      ],
      "metadata": {
        "id": "vixMNi8_UaLp"
      }
    },
    {
      "cell_type": "markdown",
      "source": [
        "Alguns dos códigos podem demorar mais de uma hora para rodar, colocarei um comentário nesses códigos. Mas, felizmente eles podem ser ignorados pois servem apenas para achar os melhores parâmetros internos para nossos classificadores.\n"
      ],
      "metadata": {
        "id": "t2UMSkQDWduz"
      }
    },
    {
      "cell_type": "code",
      "execution_count": null,
      "metadata": {
        "colab": {
          "base_uri": "https://localhost:8080/",
          "height": 75,
          "resources": {
            "http://localhost:8080/nbextensions/google.colab/files.js": {
              "data": "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",
              "headers": [
                [
                  "content-type",
                  "application/javascript"
                ]
              ],
              "ok": true,
              "status": 200,
              "status_text": "OK"
            }
          }
        },
        "id": "ttdJ7Ofn4dQO",
        "outputId": "9744bcad-6554-48dd-a2eb-6acd9cc19791"
      },
      "outputs": [
        {
          "output_type": "display_data",
          "data": {
            "text/plain": [
              "<IPython.core.display.HTML object>"
            ],
            "text/html": [
              "\n",
              "     <input type=\"file\" id=\"files-ce2f679d-83a8-40d3-af14-934d5942c5e9\" name=\"files[]\" multiple disabled\n",
              "        style=\"border:none\" />\n",
              "     <output id=\"result-ce2f679d-83a8-40d3-af14-934d5942c5e9\">\n",
              "      Upload widget is only available when the cell has been executed in the\n",
              "      current browser session. Please rerun this cell to enable.\n",
              "      </output>\n",
              "      <script src=\"/nbextensions/google.colab/files.js\"></script> "
            ]
          },
          "metadata": {}
        },
        {
          "output_type": "stream",
          "name": "stdout",
          "text": [
            "Saving death-rates-from-air-pollution.csv to death-rates-from-air-pollution.csv\n"
          ]
        }
      ],
      "source": [
        "from google.colab import files\n",
        "uploaded = files.upload()"
      ]
    },
    {
      "cell_type": "markdown",
      "metadata": {
        "id": "Y7QDsWEZcnwh"
      },
      "source": [
        "# Normalizando os dados"
      ]
    },
    {
      "cell_type": "code",
      "execution_count": null,
      "metadata": {
        "id": "aQAZaFrd5VUr"
      },
      "outputs": [],
      "source": [
        "import pandas as pd\n",
        "import numpy as np\n",
        "import matplotlib.pyplot as plt"
      ]
    },
    {
      "cell_type": "code",
      "execution_count": null,
      "metadata": {
        "id": "-hlI8FhT5gQL"
      },
      "outputs": [],
      "source": [
        "dados = pd.read_csv('death-rates-from-air-pollution.csv')"
      ]
    },
    {
      "cell_type": "code",
      "execution_count": null,
      "metadata": {
        "id": "qsQSlMec55ME"
      },
      "outputs": [],
      "source": [
        "Paises =[\"South Africa\", \"Angola\", \"Algeria\", \"Benin\", \"Botswana\", \"Burkina Faso\", \"Burundi\", \"Cape Verde\", \"Cameroon\",\n",
        "              \"Chad\", \"Comoros\", \"Congo\", \"Côte d'ivoire\", \"Djibouti\", \"Egypt\", \"Eritrea\", \"Ethiopia\", \"Gabon\",\n",
        "              \"Gambia\", \"Ghana\", \"Guinea\", \"Guinea-Bissau\", \"Equatorial Guinea\", \"Lesotho\", \"Liberia\", \"Libya\", \"Madagascar\",\n",
        "              \"Malawi\", \"Mali\", \"Morocco\", \"Mauritius\", \"Mauritania\", \"Mozambique\", \"Namibia\", \"Niger\", \"Nigeria\", \"Kenya\",\n",
        "              \"Central African Republic\", \"Democratic Republic of Congo\", \"Rwanda\", \"Sao Tome and Principe\", \"Senegal\",\n",
        "              \"Sierra Leone\", \"Seychelles\", \"Tunisia\", \"Somalia\", \"Swaziland\", \"Sudan\", \"South Sudan\", \"Uganda\", \"Tanzania\",\n",
        "              \"Togo\", \"Zambia\", \"Zimbabwe\",\"Australia\", \"Fiji\", \"Marshall Islands\", \"Solomon Islands\", \"Kiribati\", \"Micronesia (country)\",\n",
        "              \"New Zealand\", \"Papua New Guinea\", \"Samoa\", \"Tonga\", \"Vanuatu\",\"Afghanistan\", \"Saudi Arabia\", \"Bangladesh\", \"Bahrain\", \"Brunei\",\n",
        "              \"Bhutan\", \"Cambodia\", \"Qatar\", \"Kazakhstan\", \"China\", \"Singapore\", \"North Korea\", \"South Korea\",\n",
        "             \"United Arab Emirates\", \"Philippines\", \"Yemen\",\"India\", \"Indonesia\", \"Iran\", \"Iraq\", \"Israel\", \"Japan\", \"Jordan\",\n",
        "             \"Kuwait\", \"Laos\", \"Lebanon\", \"Malaysia\", \"Maldives\",\n",
        "             \"Myanmar\", \"Mongolia\", \"Nepal\", \"Oman\", \"Pakistan\", \"Kyrgyzstan\", \"Syria\", \"Sri Lanka\",\n",
        "              \"Tajikistan\", \"Thailand\", \"Timor\", \"Turkey\", \"Turkmenistan\", \"Uzbekistan\",\n",
        "             \"Vietnam\",\"Albania\", \"Germany\", \"Andorra\", \"Armenia\", \"Austria\", \"Azerbaijan\", \"Belarus\", \"Belgium\", \"Bosnia and Herzegovina\",\n",
        "             \"Bulgaria\",\"Cyprus\", \"Croatia\", \"Denmark\", \"Slovakia\", \"Slovenia\", \"Spain\", \"Estonia\", \"Finland\", \"France\", \"Georgia\",\n",
        "            \"Greece\", \"Hungary\", \"Ireland\",\"Iceland\", \"Italy\", \"Latvia\", \"Lithuania\", \"Luxembourg\", \"Macedonia\", \"Malta\", \"Moldova\",\n",
        "            \"Montenegro\", \"Norway\", \"Netherlands\", \"Poland\", \"Portugal\",\n",
        "            \"England\", \"Czech Republic\", \"Romania\", \"Russia\", \"Serbia\", \"Sweden\", \"Switzerland\", \"Ukraine\",\n",
        "            \"Antigua and Barbuda\", \"Argentina\", \"Bahamas\",\"Barbados\",\"Belize\", \"Bolivia\",\n",
        "             \"Brazil\", \"Canada\", \"Chile\", \"Colombia\", \"Costa Rica\",\"Cuba\", \"Dominica\", \"El Salvador\",\n",
        "             \"Ecuador\", \"United States\", \"Grenada\", \"Guatemala\", \"Guyana\", \"Haiti\", \"Honduras\",\n",
        "             \"Jamaica\", \"Mexico\", \"Nicaragua\", \"Panama\", \"Paraguay\", \"Peru\", \"Dominican Republic\",\n",
        "             \"Saint Lucia\", \"Saint Vincent and the Grenadines\", \"Suriname\", \"Trinidad and Tobago\", \"Uruguay\", \"Venezuela\", \"American Samoa\", \"Bermuda\",\n",
        "         \"Cote d'Ivoire\", \"Puerto Rico\", \"Scotland\", \"Taiwan\", \"United Kingdom\", \"Wales\", \"Andean Latin America\", \"Australasia\", \"Caribbean\", \"Central Asia\",\n",
        "         \"Central Europe, Eastern Europe, and Central Asia\" , \"Central Sub-Saharan Africa\", \"Central Latin America\", \"East Asia\", \"Eastern Europe\",\n",
        "         \"Eastern Sub-Saharan Africa\", \"Guam\", \"North Africa and Middle East\", \"North America\", \"Northern Ireland\", \"Northern Mariana Islands\", \"Oceania\",\n",
        "         \"Palestine\", \"South Asia\", \"Southeast Asia\", \"Southeast Asia, East Asia, and Oceania\", \"Southern Latin America\", \"Southern Sub-Saharan Africa\",\n",
        "         \"Sub-Saharan Africa\", \"Tropical Latin America\", \"United States Virgin Islands\", \"Western Europe\", \"Western Sub-Saharan Africa\"]"
      ]
    },
    {
      "cell_type": "code",
      "execution_count": null,
      "metadata": {
        "id": "HNXdckoX57Kn"
      },
      "outputs": [],
      "source": [
        "#Oceania\n",
        "CountOce = [\"Australia\", \"Fiji\", \"Marshall Islands\", \"Solomon Islands\", \"Kiribati\", \"Micronesia (country)\",\n",
        "            \"New Zealand\", \"Papua New Guinea\", \"Samoa\", \"Tonga\", \"Vanuatu\", \"American Samoa\", \"Australasia\",\n",
        "            \"Northern Mariana Islands\", \"Oceania\"]"
      ]
    },
    {
      "cell_type": "code",
      "execution_count": null,
      "metadata": {
        "id": "h3vTsZ7S59Dw"
      },
      "outputs": [],
      "source": [
        "#Asia\n",
        "CountAsia = [\"Afghanistan\", \"Saudi Arabia\", \"Bangladesh\", \"Bahrain\", \"Brunei\", \"Bhutan\", \"Cambodia\", \"Qatar\", \"Kazakhstan\", \"China\", \"Singapore\", \"North Korea\", \"South Korea\",\n",
        "             \"United Arab Emirates\", \"Philippines\", \"Yemen\",\"India\", \"Indonesia\", \"Iran\", \"Iraq\", \"Israel\", \"Japan\", \"Jordan\", \"Kuwait\", \"Laos\", \"Lebanon\", \"Malaysia\", \"Maldives\",\n",
        "             \"Myanmar\", \"Mongolia\", \"Nepal\", \"Oman\", \"Pakistan\", \"Kyrgyzstan\", \"Syria\", \"Sri Lanka\", \"Tajikistan\", \"Thailand\", \"Timor\", \"Turkey\", \"Turkmenistan\", \"Uzbekistan\",\n",
        "             \"Vietnam\", \"Taiwan\", \"Central Asia\", \"East Asia\", \"Palestine\", \"South Asia\", \"Southeast Asia\", \"Southeast Asia, East Asia, and Oceania\"]"
      ]
    },
    {
      "cell_type": "code",
      "execution_count": null,
      "metadata": {
        "id": "zPPk3S5w5_IC"
      },
      "outputs": [],
      "source": [
        "#Europa\n",
        "CountEur = [\"Albania\", \"Germany\", \"Andorra\", \"Armenia\", \"Austria\", \"Azerbaijan\", \"Belarus\", \"Belgium\", \"Bosnia and Herzegovina\", \"Bulgaria\",\n",
        "            \"Cyprus\", \"Croatia\", \"Denmark\", \"Slovakia\", \"Slovenia\", \"Spain\", \"Estonia\", \"Finland\", \"France\", \"Georgia\", \"Greece\", \"Hungary\", \"Ireland\",\n",
        "            \"Iceland\", \"Italy\", \"Latvia\", \"Lithuania\", \"Luxembourg\", \"Macedonia\", \"Malta\", \"Moldova\", \"Montenegro\", \"Norway\", \"Netherlands\", \"Poland\", \"Portugal\",\n",
        "            \"England\", \"Czech Republic\", \"Romania\", \"Russia\", \"Serbia\", \"Sweden\", \"Switzerland\", \"Ukraine\", \"Scotland\", \"United Kingdom\", \"Wales\",\n",
        "            \"Central Europe\", \"Central Europe, Eastern Europe, and Central Asia\", \"Eastern Europe\", \"Northern Ireland\", \"Western Europe\", \n",
        "            ]"
      ]
    },
    {
      "cell_type": "code",
      "execution_count": null,
      "metadata": {
        "id": "lQz8l5Lz6A4L"
      },
      "outputs": [],
      "source": [
        "#America\n",
        "CountAmer = [\"Antigua and Barbuda\", \"Argentina\", \"Bahamas\",\"Barbados\",\"Belize\", \"Bolivia\",\n",
        "             \"Brazil\", \"Canada\", \"Chile\", \"Colombia\", \"Costa Rica\",\"Cuba\", \"Dominica\", \"El Salvador\",\n",
        "             \"Ecuador\", \"United States\", \"Grenada\", \"Guatemala\", \"Guyana\", \"Haiti\", \"Honduras\",\n",
        "             \"Jamaica\", \"Mexico\", \"Nicaragua\", \"Panama\", \"Paraguay\", \"Peru\", \"Dominican Republic\",\n",
        "             \"Saint Lucia\", \"Saint Vincent and the Grenadines\", \"Suriname\", \"Trinidad and Tobago\", \"Uruguay\", \"Venezuela\", \"Bermuda\", \"Puerto Rico\",\n",
        "             \"Andean Latin America\", \"Caribbean\", \"Central Latin America\", \"Guam\", \"North America\", \"Southern Latin America\", \"Southern Sub-Saharan Africa\",\n",
        "             \"Tropical Latin America\", \"United States Virgin Islands\"]"
      ]
    },
    {
      "cell_type": "code",
      "execution_count": null,
      "metadata": {
        "id": "UIhJQYKe6CXQ"
      },
      "outputs": [],
      "source": [
        "#Africa\n",
        "CountAfrica = [\"South Africa\", \"Angola\", \"Algeria\", \"Benin\", \"Botswana\", \"Burkina Faso\", \"Burundi\", \"Cape Verde\", \"Cameroon\",\n",
        "              \"Chad\", \"Comoros\", \"Congo\", \"Côte d'ivoire\", \"Djibouti\", \"Egypt\", \"Eritrea\", \"Ethiopia\", \"Gabon\",\n",
        "              \"Gambia\", \"Ghana\", \"Guinea\", \"Guinea-Bissau\", \"Equatorial Guinea\", \"Lesotho\", \"Liberia\", \"Libya\", \"Madagascar\",\n",
        "              \"Malawi\", \"Mali\", \"Morocco\", \"Mauritius\", \"Mauritania\", \"Mozambique\", \"Namibia\", \"Niger\", \"Nigeria\", \"Kenya\",\n",
        "              \"Central African Republic\", \"Democratic Republic of Congo\", \"Rwanda\", \"Sao Tome and Principe\", \"Senegal\",\n",
        "              \"Sierra Leone\", \"Seychelles\", \"Tunisia\", \"Somalia\", \"Swaziland\", \"Sudan\", \"South Sudan\", \"Uganda\", \"Tanzania\",\n",
        "              \"Togo\", \"Zambia\", \"Zimbabwe\", \"Cote d'Ivoire\" , \"Central Sub-Saharan Africa\", \"Eastern Sub-Saharan Africa\", \n",
        "               \"North Africa and Middle East\", \"Sub-Saharan Africa\",\"Western Sub-Saharan Africa\"]"
      ]
    },
    {
      "cell_type": "code",
      "execution_count": null,
      "metadata": {
        "id": "qFciPSUa6GLv"
      },
      "outputs": [],
      "source": [
        "def continent(pais):\n",
        "  if pais in CountEur:\n",
        "    return 'Europa'\n",
        "  elif pais in CountAmer:\n",
        "    return 'America'\n",
        "  elif pais in CountAsia:\n",
        "    return 'Asia'\n",
        "  elif pais in CountOce:\n",
        "    return 'Oceania'\n",
        "  elif pais in CountAfrica:\n",
        "    return 'Africa'\n",
        "  else:\n",
        "    return 'na'"
      ]
    },
    {
      "cell_type": "code",
      "execution_count": null,
      "metadata": {
        "id": "4DuvQ-HN6Hvl"
      },
      "outputs": [],
      "source": [
        "dados['Continente'] = dados['Entity'].apply(continent)"
      ]
    },
    {
      "cell_type": "code",
      "execution_count": null,
      "metadata": {
        "colab": {
          "base_uri": "https://localhost:8080/"
        },
        "id": "1Jn29oiW6JOQ",
        "outputId": "27fb50b1-9692-4681-953c-bbbda74773db"
      },
      "outputs": [
        {
          "output_type": "execute_result",
          "data": {
            "text/plain": [
              "Africa     1652\n",
              "Europa     1456\n",
              "Asia       1400\n",
              "America    1260\n",
              "Oceania     420\n",
              "na          280\n",
              "Name: Continente, dtype: int64"
            ]
          },
          "metadata": {},
          "execution_count": 12
        }
      ],
      "source": [
        "dados['Continente'].value_counts()"
      ]
    },
    {
      "cell_type": "code",
      "execution_count": null,
      "metadata": {
        "id": "1nMCITDX6LQS"
      },
      "outputs": [],
      "source": [
        "dados.drop(dados.loc[dados['Continente'] == 'na'].index,inplace=True)"
      ]
    },
    {
      "cell_type": "markdown",
      "metadata": {
        "id": "fhU6ucEgzdHW"
      },
      "source": [
        "#Selecionando as décadas"
      ]
    },
    {
      "cell_type": "markdown",
      "metadata": {
        "id": "d5T-REGexGUk"
      },
      "source": [
        "Selecionando dados dos anos 90's"
      ]
    },
    {
      "cell_type": "code",
      "execution_count": null,
      "metadata": {
        "id": "_Qhyi5iDdUqP"
      },
      "outputs": [],
      "source": [
        "d90s = dados.loc[(dados['Year']>=1991)&(dados['Year']<=2000)]"
      ]
    },
    {
      "cell_type": "markdown",
      "metadata": {
        "id": "fhrwpKvkxIcT"
      },
      "source": [
        "Sepando os dados e a variável target"
      ]
    },
    {
      "cell_type": "code",
      "execution_count": null,
      "metadata": {
        "id": "9vVjrIELdXqX"
      },
      "outputs": [],
      "source": [
        "X = d90s[['Air pollution (total) (deaths per 100,000)','Indoor air pollution (deaths per 100,000)',\n",
        "           'Outdoor particulate matter (deaths per 100,000)','Outdoor ozone pollution (deaths per 100,000)']]"
      ]
    },
    {
      "cell_type": "code",
      "execution_count": null,
      "metadata": {
        "id": "ZrJVaLW5xa4x"
      },
      "outputs": [],
      "source": [
        "y = d90s[['Continente']]"
      ]
    },
    {
      "cell_type": "markdown",
      "metadata": {
        "id": "8Hzyn8dTxhP1"
      },
      "source": [
        "Selecionando dados dos anos 00's"
      ]
    },
    {
      "cell_type": "code",
      "execution_count": null,
      "metadata": {
        "id": "g4XlHiD_xiB1"
      },
      "outputs": [],
      "source": [
        "d00s = dados.loc[(dados['Year']>=2001)&(dados['Year']<=2010)]"
      ]
    },
    {
      "cell_type": "markdown",
      "metadata": {
        "id": "YzJBRg7kxmot"
      },
      "source": [
        "Sepando os dados e a variável target"
      ]
    },
    {
      "cell_type": "code",
      "execution_count": null,
      "metadata": {
        "id": "YFdrQgdmxonz"
      },
      "outputs": [],
      "source": [
        "X00 = d00s[['Air pollution (total) (deaths per 100,000)','Indoor air pollution (deaths per 100,000)',\n",
        "           'Outdoor particulate matter (deaths per 100,000)','Outdoor ozone pollution (deaths per 100,000)']]"
      ]
    },
    {
      "cell_type": "code",
      "execution_count": null,
      "metadata": {
        "id": "P-qyE8hHxqJQ"
      },
      "outputs": [],
      "source": [
        "y00 = d00s[['Continente']]"
      ]
    },
    {
      "cell_type": "markdown",
      "metadata": {
        "id": "pdtAf9HixtKK"
      },
      "source": [
        "#Separando os dados em treino e teste"
      ]
    },
    {
      "cell_type": "code",
      "execution_count": null,
      "metadata": {
        "id": "ftb6RbMndcYB"
      },
      "outputs": [],
      "source": [
        "from sklearn.model_selection import train_test_split\n",
        "import sklearn.metrics as metrics\n",
        "from sklearn.metrics import confusion_matrix\n",
        "from sklearn.metrics import classification_report, confusion_matrix, accuracy_score"
      ]
    },
    {
      "cell_type": "code",
      "execution_count": null,
      "metadata": {
        "id": "3Tb07NbEdm-L"
      },
      "outputs": [],
      "source": [
        "X_train90, X_test90, y_train90, y_test90 = train_test_split(X,y, test_size=0.3,random_state=42)"
      ]
    },
    {
      "cell_type": "code",
      "execution_count": null,
      "metadata": {
        "id": "RpL2oku1dpr-"
      },
      "outputs": [],
      "source": [
        "X_train00, X_test00, y_train00, y_test00 = train_test_split(X00,y00, test_size=0.3,random_state=10)"
      ]
    },
    {
      "cell_type": "markdown",
      "metadata": {
        "id": "6OYep5gjdT-g"
      },
      "source": [
        "# Árvore de decisão"
      ]
    },
    {
      "cell_type": "markdown",
      "metadata": {
        "id": "UZCpuXGOx2Yr"
      },
      "source": [
        "Àrvore 90s"
      ]
    },
    {
      "cell_type": "code",
      "execution_count": null,
      "metadata": {
        "id": "UlCL1X7Ix1VM"
      },
      "outputs": [],
      "source": [
        "from sklearn import tree\n",
        "modeloARV90 = tree.DecisionTreeClassifier(criterion='entropy', max_depth=15)\n",
        "modeloARV90 = modeloARV90.fit(X_train90, y_train90)\n",
        "predictionsARV90 = modeloARV90.predict(X_test90)"
      ]
    },
    {
      "cell_type": "code",
      "execution_count": null,
      "metadata": {
        "id": "LiRC3X2Jdt_v"
      },
      "outputs": [],
      "source": [
        "confARV90 = confusion_matrix(predictionsARV90,y_test90)"
      ]
    },
    {
      "cell_type": "code",
      "execution_count": null,
      "metadata": {
        "colab": {
          "base_uri": "https://localhost:8080/"
        },
        "id": "IhSpUiZufo0q",
        "outputId": "3c2eef7b-7892-4511-b751-346b4e3e1764"
      },
      "outputs": [
        {
          "output_type": "stream",
          "name": "stdout",
          "text": [
            "Acurácia do modelo Árvore de decisão década 90s, foi de 88.08 %. \n",
            "Matriz de confusão do modelo Árvore de decisão, década 90s:\n",
            " [[164   3  12   5   2]\n",
            " [ 14 124   1   2   1]\n",
            " [  6   2 124  14   0]\n",
            " [  4   6   6 131   0]\n",
            " [  0   0   0   1  41]]\n"
          ]
        }
      ],
      "source": [
        "print(\"Acurácia do modelo Árvore de decisão década 90s, foi de\", round(accuracy_score(y_test90, predictionsARV90)*100,2),\"%.\",\n",
        "      \"\\nMatriz de confusão do modelo Árvore de decisão, década 90s:\\n\",confARV90)"
      ]
    },
    {
      "cell_type": "markdown",
      "metadata": {
        "id": "xnr9QddKx_Q2"
      },
      "source": [
        "Árvore 00s"
      ]
    },
    {
      "cell_type": "code",
      "execution_count": null,
      "metadata": {
        "id": "PAymJplQe9tN"
      },
      "outputs": [],
      "source": [
        "modeloARV00 = tree.DecisionTreeClassifier(criterion='entropy', max_depth=15)\n",
        "modeloARV00 = modeloARV00.fit(X_train00, y_train00)\n",
        "predictionsARV00 = modeloARV00.predict(X_test00)"
      ]
    },
    {
      "cell_type": "code",
      "execution_count": null,
      "metadata": {
        "id": "SIJOlnGTy9Jw"
      },
      "outputs": [],
      "source": [
        "confARV00 = confusion_matrix(predictionsARV00,y_test00)"
      ]
    },
    {
      "cell_type": "code",
      "execution_count": null,
      "metadata": {
        "colab": {
          "base_uri": "https://localhost:8080/"
        },
        "id": "R-qDDvksy-d5",
        "outputId": "e61ceda8-3bfa-4eb8-be25-fc07c795f196"
      },
      "outputs": [
        {
          "output_type": "stream",
          "name": "stdout",
          "text": [
            "Acurácia do modelo Árvore de decisão, década 00s, foi de 90.65 %. \n",
            "Matriz de confusão do modelo Árvore de decisão, década 00s:\n",
            " [[176   3   8   2   0]\n",
            " [  3 118  10   4   1]\n",
            " [  2  10 123  10   0]\n",
            " [  3   6   0 145   0]\n",
            " [  0   0   0   0  39]]\n"
          ]
        }
      ],
      "source": [
        "print(\"Acurácia do modelo Árvore de decisão, década 00s, foi de\", round(accuracy_score(y_test00, predictionsARV00)*100,2),\"%.\",\n",
        "      \"\\nMatriz de confusão do modelo Árvore de decisão, década 00s:\\n\",confARV00)"
      ]
    },
    {
      "cell_type": "markdown",
      "metadata": {
        "id": "omvH-rFAzlGj"
      },
      "source": [
        "#Naive Bayes da Década de 90"
      ]
    },
    {
      "cell_type": "markdown",
      "metadata": {
        "id": "J27HQQSj0hax"
      },
      "source": [
        "Criando o modelo Naive Bayes Gaussiano"
      ]
    },
    {
      "cell_type": "code",
      "execution_count": null,
      "metadata": {
        "id": "36ZnMnEyz5xm"
      },
      "outputs": [],
      "source": [
        "from sklearn.naive_bayes import GaussianNB\n",
        "from sklearn.metrics import classification_report, confusion_matrix, accuracy_score"
      ]
    },
    {
      "cell_type": "code",
      "execution_count": null,
      "metadata": {
        "id": "QEnoCQPY0MS2"
      },
      "outputs": [],
      "source": [
        "modeloGau = GaussianNB()"
      ]
    },
    {
      "cell_type": "markdown",
      "metadata": {
        "id": "ZSpVvqr80nUR"
      },
      "source": [
        "Achando os melhores parâmetros"
      ]
    },
    {
      "cell_type": "code",
      "execution_count": null,
      "metadata": {
        "id": "6d5rtuM00rMh"
      },
      "outputs": [],
      "source": [
        "from sklearn.model_selection import GridSearchCV"
      ]
    },
    {
      "cell_type": "code",
      "execution_count": null,
      "metadata": {
        "id": "8WkzVnNy0uB9"
      },
      "outputs": [],
      "source": [
        "paramG = {'var_smoothing':[-1,1e-20,1e-17,1e-15,1e-14,1e-13,1e-12,1e-11,1e-10,1e-9,1e-8,1]}"
      ]
    },
    {
      "cell_type": "code",
      "execution_count": null,
      "metadata": {
        "id": "CXj3IjRq0vw7"
      },
      "outputs": [],
      "source": [
        "grid1 = GridSearchCV(modeloGau,paramG)"
      ]
    },
    {
      "cell_type": "code",
      "execution_count": null,
      "metadata": {
        "colab": {
          "base_uri": "https://localhost:8080/"
        },
        "id": "Nq6gxpMz0wJr",
        "outputId": "d97ec70b-638f-448b-a34a-c60d4c9d429f"
      },
      "outputs": [
        {
          "output_type": "stream",
          "name": "stderr",
          "text": [
            "/usr/local/lib/python3.7/dist-packages/sklearn/naive_bayes.py:489: RuntimeWarning: invalid value encountered in log\n",
            "  n_ij = -0.5 * np.sum(np.log(2.0 * np.pi * self.var_[i, :]))\n",
            "/usr/local/lib/python3.7/dist-packages/sklearn/naive_bayes.py:489: RuntimeWarning: invalid value encountered in log\n",
            "  n_ij = -0.5 * np.sum(np.log(2.0 * np.pi * self.var_[i, :]))\n",
            "/usr/local/lib/python3.7/dist-packages/sklearn/naive_bayes.py:489: RuntimeWarning: invalid value encountered in log\n",
            "  n_ij = -0.5 * np.sum(np.log(2.0 * np.pi * self.var_[i, :]))\n",
            "/usr/local/lib/python3.7/dist-packages/sklearn/naive_bayes.py:489: RuntimeWarning: invalid value encountered in log\n",
            "  n_ij = -0.5 * np.sum(np.log(2.0 * np.pi * self.var_[i, :]))\n",
            "/usr/local/lib/python3.7/dist-packages/sklearn/naive_bayes.py:489: RuntimeWarning: invalid value encountered in log\n",
            "  n_ij = -0.5 * np.sum(np.log(2.0 * np.pi * self.var_[i, :]))\n"
          ]
        },
        {
          "output_type": "execute_result",
          "data": {
            "text/plain": [
              "GridSearchCV(estimator=GaussianNB(),\n",
              "             param_grid={'var_smoothing': [-1, 1e-20, 1e-17, 1e-15, 1e-14,\n",
              "                                           1e-13, 1e-12, 1e-11, 1e-10, 1e-09,\n",
              "                                           1e-08, 1]})"
            ]
          },
          "metadata": {},
          "execution_count": 34
        }
      ],
      "source": [
        "grid1.fit(X_train90,y_train90.values.ravel())"
      ]
    },
    {
      "cell_type": "code",
      "execution_count": null,
      "metadata": {
        "colab": {
          "base_uri": "https://localhost:8080/"
        },
        "id": "phtslktQ06cc",
        "outputId": "c7f3bac4-8993-4769-e3df-ba8d499fbf43"
      },
      "outputs": [
        {
          "output_type": "execute_result",
          "data": {
            "text/plain": [
              "GaussianNB(var_smoothing=1e-20)"
            ]
          },
          "metadata": {},
          "execution_count": 35
        }
      ],
      "source": [
        "grid1.best_estimator_"
      ]
    },
    {
      "cell_type": "markdown",
      "metadata": {
        "id": "rSpEn4Ox099y"
      },
      "source": [
        "Aplicando o melhor parâmetro"
      ]
    },
    {
      "cell_type": "code",
      "execution_count": null,
      "metadata": {
        "id": "FcisFoO41AZj"
      },
      "outputs": [],
      "source": [
        "modeloGau_o = GaussianNB(var_smoothing=1e-20)"
      ]
    },
    {
      "cell_type": "code",
      "execution_count": null,
      "metadata": {
        "colab": {
          "base_uri": "https://localhost:8080/"
        },
        "id": "-ymc2UGD1DTe",
        "outputId": "dc4d02ff-7009-427c-9cbf-a4ee8ae9f641"
      },
      "outputs": [
        {
          "output_type": "execute_result",
          "data": {
            "text/plain": [
              "GaussianNB(var_smoothing=1e-20)"
            ]
          },
          "metadata": {},
          "execution_count": 37
        }
      ],
      "source": [
        "modeloGau_o.fit(X_train90,y_train90.values.ravel())"
      ]
    },
    {
      "cell_type": "code",
      "execution_count": null,
      "metadata": {
        "id": "QukrzwsY1QjU"
      },
      "outputs": [],
      "source": [
        "preditoG = modeloGau_o.predict(X_test90)"
      ]
    },
    {
      "cell_type": "markdown",
      "metadata": {
        "id": "fmrNl0Zs1LQB"
      },
      "source": [
        "Matriz de confusão, modelo Naive Bayes Gaussiano década 90's"
      ]
    },
    {
      "cell_type": "code",
      "execution_count": null,
      "metadata": {
        "id": "Q8yFNbap1Ix-"
      },
      "outputs": [],
      "source": [
        "confG = confusion_matrix(y_test90,preditoG)"
      ]
    },
    {
      "cell_type": "code",
      "execution_count": null,
      "metadata": {
        "colab": {
          "base_uri": "https://localhost:8080/"
        },
        "id": "fGZKXChW1Tqa",
        "outputId": "10c2a41b-db2c-47e4-fe46-6d5999a35496"
      },
      "outputs": [
        {
          "output_type": "stream",
          "name": "stdout",
          "text": [
            "Acurácia do modelo Naive Bayes Gaussiano década 90s, foi de 66.0 %\n",
            "Matriz de confusão modelo Naive Bayes Gaussiano década 90s:\n",
            " [[141   7   5  28   7]\n",
            " [  6  94   2  33   0]\n",
            " [ 28  11  59  45   0]\n",
            " [  1  20   6 126   0]\n",
            " [ 11  14   0   4  15]]\n"
          ]
        }
      ],
      "source": [
        "print(\"Acurácia do modelo Naive Bayes Gaussiano década 90s, foi de\", round(accuracy_score(y_test90, preditoG),2)*100,\n",
        "                                                                      \"%\\nMatriz de confusão modelo Naive Bayes Gaussiano década 90s:\\n\",confG)"
      ]
    },
    {
      "cell_type": "markdown",
      "metadata": {
        "id": "RSlhfyR12AjI"
      },
      "source": [
        "Classificador Multinomial Naive Bayes"
      ]
    },
    {
      "cell_type": "code",
      "execution_count": null,
      "metadata": {
        "id": "Us6zQtTH2BHi"
      },
      "outputs": [],
      "source": [
        "from sklearn.naive_bayes import MultinomialNB"
      ]
    },
    {
      "cell_type": "code",
      "execution_count": null,
      "metadata": {
        "id": "M4VgXcDN2CkO"
      },
      "outputs": [],
      "source": [
        "modeloM = MultinomialNB()"
      ]
    },
    {
      "cell_type": "markdown",
      "metadata": {
        "id": "KIdI3MvG2FJc"
      },
      "source": [
        "Achando os melhores parâmetros"
      ]
    },
    {
      "cell_type": "code",
      "execution_count": null,
      "metadata": {
        "id": "Re0sE7V62Edh"
      },
      "outputs": [],
      "source": [
        "paramM = {'alpha': (10,5,2,1, 0.1, 0.01, 0.001, 0.0001, 0.00001)  }  "
      ]
    },
    {
      "cell_type": "code",
      "execution_count": null,
      "metadata": {
        "id": "Fy7WoGoc2Iso"
      },
      "outputs": [],
      "source": [
        "grid2 = GridSearchCV(modeloM,paramM)"
      ]
    },
    {
      "cell_type": "code",
      "execution_count": null,
      "metadata": {
        "colab": {
          "base_uri": "https://localhost:8080/"
        },
        "id": "MfXReqqr2I4x",
        "outputId": "5671a4b4-1bb0-4e63-9559-90f6b56e5b9d"
      },
      "outputs": [
        {
          "output_type": "execute_result",
          "data": {
            "text/plain": [
              "GridSearchCV(estimator=MultinomialNB(),\n",
              "             param_grid={'alpha': (10, 5, 2, 1, 0.1, 0.01, 0.001, 0.0001,\n",
              "                                   1e-05)})"
            ]
          },
          "metadata": {},
          "execution_count": 45
        }
      ],
      "source": [
        "grid2.fit(X_train90,y_train90.values.ravel())"
      ]
    },
    {
      "cell_type": "code",
      "execution_count": null,
      "metadata": {
        "colab": {
          "base_uri": "https://localhost:8080/"
        },
        "id": "lnqcoWqZ2OXF",
        "outputId": "5a0de174-6586-4115-9cbc-1b34b1747838"
      },
      "outputs": [
        {
          "output_type": "execute_result",
          "data": {
            "text/plain": [
              "MultinomialNB(alpha=0.1)"
            ]
          },
          "metadata": {},
          "execution_count": 46
        }
      ],
      "source": [
        "grid2.best_estimator_"
      ]
    },
    {
      "cell_type": "markdown",
      "metadata": {
        "id": "ncwenPQW2Qff"
      },
      "source": [
        "Aplicando o melhor parâmetro"
      ]
    },
    {
      "cell_type": "code",
      "execution_count": null,
      "metadata": {
        "id": "_tmeeprh2Shk"
      },
      "outputs": [],
      "source": [
        "modeloM_o = MultinomialNB(alpha=1)"
      ]
    },
    {
      "cell_type": "code",
      "execution_count": null,
      "metadata": {
        "colab": {
          "base_uri": "https://localhost:8080/"
        },
        "id": "tHLaV9ee2T3_",
        "outputId": "f5ff56da-0337-47e5-9d0c-1966a81ba9f1"
      },
      "outputs": [
        {
          "output_type": "execute_result",
          "data": {
            "text/plain": [
              "MultinomialNB(alpha=1)"
            ]
          },
          "metadata": {},
          "execution_count": 48
        }
      ],
      "source": [
        "modeloM_o.fit(X_train90,y_train90.values.ravel())"
      ]
    },
    {
      "cell_type": "code",
      "execution_count": null,
      "metadata": {
        "id": "kRwN1l3t2WaW"
      },
      "outputs": [],
      "source": [
        "preditoM = modeloM_o.predict(X_test90)"
      ]
    },
    {
      "cell_type": "markdown",
      "metadata": {
        "id": "0H6WWXPK2b2c"
      },
      "source": [
        "Matriz de confusão do modelo Multinomial Naive Bayes, década 90s"
      ]
    },
    {
      "cell_type": "code",
      "execution_count": null,
      "metadata": {
        "id": "Nzs9Y0dp2dir"
      },
      "outputs": [],
      "source": [
        "confM = confusion_matrix(y_test90,preditoM)"
      ]
    },
    {
      "cell_type": "code",
      "execution_count": null,
      "metadata": {
        "colab": {
          "base_uri": "https://localhost:8080/"
        },
        "id": "G9C7rNh62g3Q",
        "outputId": "818bde2d-da84-4635-bc5f-41923351bcb1"
      },
      "outputs": [
        {
          "output_type": "stream",
          "name": "stdout",
          "text": [
            "Acurácia do modelo Naive Bayes Multinomial década 90s, foi de 52.34 %. \n",
            "Matriz de confusão modelo Naive Bayes Multinomial década 90s:\n",
            " [[116   7   1  27  37]\n",
            " [ 18  45  15  57   0]\n",
            " [ 29   8  39  60   7]\n",
            " [  3  18   4 128   0]\n",
            " [  9   3   2  11  19]]\n"
          ]
        }
      ],
      "source": [
        "print(\"Acurácia do modelo Naive Bayes Multinomial década 90s, foi de\", round(accuracy_score(y_test90, preditoM)*100,2),\"%.\",\n",
        "      \"\\nMatriz de confusão modelo Naive Bayes Multinomial década 90s:\\n\",confM)"
      ]
    },
    {
      "cell_type": "markdown",
      "metadata": {
        "id": "lgmZkwuG2nhg"
      },
      "source": [
        "\n",
        "\n",
        "Classificador Naive Bayes Bernoulli\n"
      ]
    },
    {
      "cell_type": "code",
      "execution_count": null,
      "metadata": {
        "id": "spp3v-pW2oP5"
      },
      "outputs": [],
      "source": [
        "from sklearn.naive_bayes import BernoulliNB"
      ]
    },
    {
      "cell_type": "code",
      "execution_count": null,
      "metadata": {
        "id": "N0ZRfWc42qTO"
      },
      "outputs": [],
      "source": [
        "modeloB = BernoulliNB()"
      ]
    },
    {
      "cell_type": "markdown",
      "metadata": {
        "id": "LoYeDqGi2ruf"
      },
      "source": [
        "Achando os melhores parâmetros"
      ]
    },
    {
      "cell_type": "code",
      "execution_count": null,
      "metadata": {
        "id": "vcwiuadT2tku"
      },
      "outputs": [],
      "source": [
        "paramB = {'alpha': [-10, -5,0.000001,0.00001,0.0001,0.001,0.005,0.01, 0.1, 0.5, 1.0, 10.0], 'binarize':[-10,-5,1,5,10,25,50,75,100,500]}"
      ]
    },
    {
      "cell_type": "code",
      "execution_count": null,
      "metadata": {
        "id": "-FdxyyZe2wzq"
      },
      "outputs": [],
      "source": [
        "grid3 = GridSearchCV(modeloB,paramB)"
      ]
    },
    {
      "cell_type": "code",
      "execution_count": null,
      "metadata": {
        "colab": {
          "base_uri": "https://localhost:8080/"
        },
        "id": "EPeIccQN2y0y",
        "outputId": "dbb518a7-4eb4-4e6f-b731-3cabd9369f35"
      },
      "outputs": [
        {
          "output_type": "stream",
          "name": "stderr",
          "text": [
            "/usr/local/lib/python3.7/dist-packages/sklearn/model_selection/_validation.py:372: FitFailedWarning: \n",
            "100 fits failed out of a total of 600.\n",
            "The score on these train-test partitions for these parameters will be set to nan.\n",
            "If these failures are not expected, you can try to debug them by setting error_score='raise'.\n",
            "\n",
            "Below are more details about the failures:\n",
            "--------------------------------------------------------------------------------\n",
            "50 fits failed with the following error:\n",
            "Traceback (most recent call last):\n",
            "  File \"/usr/local/lib/python3.7/dist-packages/sklearn/model_selection/_validation.py\", line 680, in _fit_and_score\n",
            "    estimator.fit(X_train, y_train, **fit_params)\n",
            "  File \"/usr/local/lib/python3.7/dist-packages/sklearn/naive_bayes.py\", line 691, in fit\n",
            "    alpha = self._check_alpha()\n",
            "  File \"/usr/local/lib/python3.7/dist-packages/sklearn/naive_bayes.py\", line 547, in _check_alpha\n",
            "    % np.min(self.alpha)\n",
            "ValueError: Smoothing parameter alpha = -1.0e+01. alpha should be > 0.\n",
            "\n",
            "--------------------------------------------------------------------------------\n",
            "50 fits failed with the following error:\n",
            "Traceback (most recent call last):\n",
            "  File \"/usr/local/lib/python3.7/dist-packages/sklearn/model_selection/_validation.py\", line 680, in _fit_and_score\n",
            "    estimator.fit(X_train, y_train, **fit_params)\n",
            "  File \"/usr/local/lib/python3.7/dist-packages/sklearn/naive_bayes.py\", line 691, in fit\n",
            "    alpha = self._check_alpha()\n",
            "  File \"/usr/local/lib/python3.7/dist-packages/sklearn/naive_bayes.py\", line 547, in _check_alpha\n",
            "    % np.min(self.alpha)\n",
            "ValueError: Smoothing parameter alpha = -5.0e+00. alpha should be > 0.\n",
            "\n",
            "  warnings.warn(some_fits_failed_message, FitFailedWarning)\n",
            "/usr/local/lib/python3.7/dist-packages/sklearn/model_selection/_search.py:972: UserWarning: One or more of the test scores are non-finite: [       nan        nan        nan        nan        nan        nan\n",
            "        nan        nan        nan        nan        nan        nan\n",
            "        nan        nan        nan        nan        nan        nan\n",
            "        nan        nan 0.25985593 0.25985593 0.3981877  0.42148032\n",
            " 0.45119532 0.42468525 0.51069005 0.47254411 0.47383652 0.25985593\n",
            " 0.25985593 0.25985593 0.3981877  0.42148032 0.45119532 0.42468525\n",
            " 0.51069005 0.47254411 0.47383652 0.25985593 0.25985593 0.25985593\n",
            " 0.3981877  0.42148032 0.45119532 0.42468525 0.51069005 0.47254411\n",
            " 0.47383652 0.25985593 0.25985593 0.25985593 0.3981877  0.42148032\n",
            " 0.45119532 0.42468525 0.51069005 0.47254411 0.47383652 0.25985593\n",
            " 0.25985593 0.25985593 0.3981877  0.42148032 0.45119532 0.42468525\n",
            " 0.51069005 0.47254411 0.47383652 0.25985593 0.25985593 0.25985593\n",
            " 0.3981877  0.42148032 0.45119532 0.42468525 0.51069005 0.47254411\n",
            " 0.47383652 0.25985593 0.25985593 0.25985593 0.3981877  0.42148032\n",
            " 0.45119532 0.42468525 0.51069005 0.47254411 0.47383652 0.25985593\n",
            " 0.25985593 0.25985593 0.3981877  0.42148032 0.45119532 0.42468525\n",
            " 0.51069005 0.47254411 0.47383652 0.25985593 0.25985593 0.25985593\n",
            " 0.3981877  0.42148032 0.45119532 0.42468525 0.51069005 0.47254411\n",
            " 0.47383652 0.25985593 0.25985593 0.25985593 0.39042698 0.42148032\n",
            " 0.45119532 0.42468525 0.50292306 0.47254411 0.47383652 0.25985593]\n",
            "  category=UserWarning,\n"
          ]
        },
        {
          "output_type": "execute_result",
          "data": {
            "text/plain": [
              "GridSearchCV(estimator=BernoulliNB(),\n",
              "             param_grid={'alpha': [-10, -5, 1e-06, 1e-05, 0.0001, 0.001, 0.005,\n",
              "                                   0.01, 0.1, 0.5, 1.0, 10.0],\n",
              "                         'binarize': [-10, -5, 1, 5, 10, 25, 50, 75, 100, 500]})"
            ]
          },
          "metadata": {},
          "execution_count": 56
        }
      ],
      "source": [
        "grid3.fit(X_train90,y_train90.values.ravel())"
      ]
    },
    {
      "cell_type": "code",
      "execution_count": null,
      "metadata": {
        "colab": {
          "base_uri": "https://localhost:8080/"
        },
        "id": "v9x_1zcS24Iw",
        "outputId": "0cb741a2-91a6-4f78-ef4e-f2b31b050146"
      },
      "outputs": [
        {
          "output_type": "execute_result",
          "data": {
            "text/plain": [
              "BernoulliNB(alpha=1e-06, binarize=50)"
            ]
          },
          "metadata": {},
          "execution_count": 57
        }
      ],
      "source": [
        "grid3.best_estimator_"
      ]
    },
    {
      "cell_type": "markdown",
      "metadata": {
        "id": "TT6r9WZm259_"
      },
      "source": [
        "Aplicando o melhor parâmetro"
      ]
    },
    {
      "cell_type": "code",
      "execution_count": null,
      "metadata": {
        "id": "3vMd8I4i26xn"
      },
      "outputs": [],
      "source": [
        "modeloB_o = BernoulliNB(alpha=1e-06, binarize=50)"
      ]
    },
    {
      "cell_type": "code",
      "execution_count": null,
      "metadata": {
        "colab": {
          "base_uri": "https://localhost:8080/"
        },
        "id": "m_VFaIpw29x7",
        "outputId": "bb521d89-92d5-41de-b66d-c5f6941567d4"
      },
      "outputs": [
        {
          "output_type": "stream",
          "name": "stderr",
          "text": [
            "/usr/local/lib/python3.7/dist-packages/sklearn/utils/validation.py:993: DataConversionWarning: A column-vector y was passed when a 1d array was expected. Please change the shape of y to (n_samples, ), for example using ravel().\n",
            "  y = column_or_1d(y, warn=True)\n"
          ]
        },
        {
          "output_type": "execute_result",
          "data": {
            "text/plain": [
              "BernoulliNB(alpha=1e-06, binarize=50)"
            ]
          },
          "metadata": {},
          "execution_count": 59
        }
      ],
      "source": [
        "modeloB_o.fit(X_train90,y_train90)"
      ]
    },
    {
      "cell_type": "code",
      "execution_count": null,
      "metadata": {
        "id": "J6xMX97a3Ahu"
      },
      "outputs": [],
      "source": [
        "preditoB = modeloB_o.predict(X_test90)"
      ]
    },
    {
      "cell_type": "markdown",
      "metadata": {
        "id": "85AYwnuE3EBg"
      },
      "source": [
        "\n",
        "\n",
        "Matriz de confusão do modelo Bernoulli Naive Bayes, década 90s\n"
      ]
    },
    {
      "cell_type": "code",
      "execution_count": null,
      "metadata": {
        "id": "Q60c8-JM3Fpi"
      },
      "outputs": [],
      "source": [
        "confB = confusion_matrix(preditoB,y_test90)"
      ]
    },
    {
      "cell_type": "code",
      "execution_count": null,
      "metadata": {
        "colab": {
          "base_uri": "https://localhost:8080/"
        },
        "id": "gW7GU8u-3Kxe",
        "outputId": "d99d6957-10d9-4248-c282-e8099aff083d"
      },
      "outputs": [
        {
          "output_type": "stream",
          "name": "stdout",
          "text": [
            "Acurácia do modelo Naive Bayes Bernoulli década 90s, foi de 55.51 %. \n",
            "Matriz de confusão do modelo Naive Bayes Bernoulli década 90s:\n",
            " [[156  14  45   4  28]\n",
            " [ 10  57  10  24   5]\n",
            " [ 22   5  72  42   0]\n",
            " [  0  59  16  83  11]\n",
            " [  0   0   0   0   0]]\n"
          ]
        }
      ],
      "source": [
        "print(\"Acurácia do modelo Naive Bayes Bernoulli década 90s, foi de\", round(accuracy_score(y_test90, preditoB)*100,2),\"%.\",\n",
        "      \"\\nMatriz de confusão do modelo Naive Bayes Bernoulli década 90s:\\n\",confB)"
      ]
    },
    {
      "cell_type": "markdown",
      "metadata": {
        "id": "EXaadLll3hwc"
      },
      "source": [
        "#Naive Bayes da Década de 00s"
      ]
    },
    {
      "cell_type": "markdown",
      "metadata": {
        "id": "OgnTCfIR30Bw"
      },
      "source": [
        "Criando o modelo Naive Bayes Gaussiano"
      ]
    },
    {
      "cell_type": "code",
      "execution_count": null,
      "metadata": {
        "id": "lrldusy-3zQ7"
      },
      "outputs": [],
      "source": [
        "modeloGau00 = GaussianNB()"
      ]
    },
    {
      "cell_type": "markdown",
      "metadata": {
        "id": "NSCsyPoQ4du8"
      },
      "source": [
        "Achando os melhores parâmetros"
      ]
    },
    {
      "cell_type": "code",
      "execution_count": null,
      "metadata": {
        "id": "lDTLF-vI4aTZ"
      },
      "outputs": [],
      "source": [
        "paramG00 = {'var_smoothing':[-1,1e-20,1e-17,1e-15,1e-14,1e-13,1e-12,1e-11,1e-10,1e-9,1e-8,1]}"
      ]
    },
    {
      "cell_type": "code",
      "execution_count": null,
      "metadata": {
        "id": "aD-Ed1jx4gWL"
      },
      "outputs": [],
      "source": [
        "grid4 = GridSearchCV(modeloGau00,paramG00)"
      ]
    },
    {
      "cell_type": "code",
      "execution_count": null,
      "metadata": {
        "colab": {
          "base_uri": "https://localhost:8080/"
        },
        "id": "vRva6abx4kWc",
        "outputId": "00659397-1d84-4509-e647-1eb1da49a0f7"
      },
      "outputs": [
        {
          "output_type": "stream",
          "name": "stderr",
          "text": [
            "/usr/local/lib/python3.7/dist-packages/sklearn/naive_bayes.py:489: RuntimeWarning: invalid value encountered in log\n",
            "  n_ij = -0.5 * np.sum(np.log(2.0 * np.pi * self.var_[i, :]))\n",
            "/usr/local/lib/python3.7/dist-packages/sklearn/naive_bayes.py:489: RuntimeWarning: invalid value encountered in log\n",
            "  n_ij = -0.5 * np.sum(np.log(2.0 * np.pi * self.var_[i, :]))\n",
            "/usr/local/lib/python3.7/dist-packages/sklearn/naive_bayes.py:489: RuntimeWarning: invalid value encountered in log\n",
            "  n_ij = -0.5 * np.sum(np.log(2.0 * np.pi * self.var_[i, :]))\n",
            "/usr/local/lib/python3.7/dist-packages/sklearn/naive_bayes.py:489: RuntimeWarning: invalid value encountered in log\n",
            "  n_ij = -0.5 * np.sum(np.log(2.0 * np.pi * self.var_[i, :]))\n",
            "/usr/local/lib/python3.7/dist-packages/sklearn/naive_bayes.py:489: RuntimeWarning: invalid value encountered in log\n",
            "  n_ij = -0.5 * np.sum(np.log(2.0 * np.pi * self.var_[i, :]))\n"
          ]
        },
        {
          "output_type": "execute_result",
          "data": {
            "text/plain": [
              "GridSearchCV(estimator=GaussianNB(),\n",
              "             param_grid={'var_smoothing': [-1, 1e-20, 1e-17, 1e-15, 1e-14,\n",
              "                                           1e-13, 1e-12, 1e-11, 1e-10, 1e-09,\n",
              "                                           1e-08, 1]})"
            ]
          },
          "metadata": {},
          "execution_count": 66
        }
      ],
      "source": [
        "grid4.fit(X_train00,y_train00.values.ravel())"
      ]
    },
    {
      "cell_type": "code",
      "execution_count": null,
      "metadata": {
        "colab": {
          "base_uri": "https://localhost:8080/"
        },
        "id": "xqn3CMSB4omh",
        "outputId": "59241a7f-a4e9-4c7c-c2fd-74c25f2051c1"
      },
      "outputs": [
        {
          "output_type": "execute_result",
          "data": {
            "text/plain": [
              "GaussianNB(var_smoothing=1e-20)"
            ]
          },
          "metadata": {},
          "execution_count": 67
        }
      ],
      "source": [
        "grid4.best_estimator_"
      ]
    },
    {
      "cell_type": "markdown",
      "metadata": {
        "id": "GOabJWQ34s_8"
      },
      "source": [
        "Aplicando o melhor parâmetro"
      ]
    },
    {
      "cell_type": "code",
      "execution_count": null,
      "metadata": {
        "id": "mlaaZGke5EHt"
      },
      "outputs": [],
      "source": [
        "modeloGau_o00 = GaussianNB(var_smoothing=1e-20)"
      ]
    },
    {
      "cell_type": "code",
      "execution_count": null,
      "metadata": {
        "colab": {
          "base_uri": "https://localhost:8080/"
        },
        "id": "3Sa4Qb8h4971",
        "outputId": "cad3bdf3-91eb-4051-842a-5f18a3f02334"
      },
      "outputs": [
        {
          "output_type": "stream",
          "name": "stderr",
          "text": [
            "/usr/local/lib/python3.7/dist-packages/sklearn/utils/validation.py:993: DataConversionWarning: A column-vector y was passed when a 1d array was expected. Please change the shape of y to (n_samples, ), for example using ravel().\n",
            "  y = column_or_1d(y, warn=True)\n"
          ]
        },
        {
          "output_type": "execute_result",
          "data": {
            "text/plain": [
              "GaussianNB(var_smoothing=1e-20)"
            ]
          },
          "metadata": {},
          "execution_count": 69
        }
      ],
      "source": [
        "modeloGau_o00.fit(X_train00,y_train00)"
      ]
    },
    {
      "cell_type": "code",
      "execution_count": null,
      "metadata": {
        "id": "EH0F7_CG5RIS"
      },
      "outputs": [],
      "source": [
        "preditoG00 = modeloGau_o00.predict(X_test00)"
      ]
    },
    {
      "cell_type": "markdown",
      "metadata": {
        "id": "ph6JaeIW5VG1"
      },
      "source": [
        "Matriz de confusão, modelo Naive Bayes Gaussiano década 00's"
      ]
    },
    {
      "cell_type": "code",
      "execution_count": null,
      "metadata": {
        "id": "iiZgvgfr5W9f"
      },
      "outputs": [],
      "source": [
        "confG00 = confusion_matrix(y_test00,preditoG00)"
      ]
    },
    {
      "cell_type": "code",
      "execution_count": null,
      "metadata": {
        "colab": {
          "base_uri": "https://localhost:8080/"
        },
        "id": "AbVzZFR35cp_",
        "outputId": "9e2fe57d-0ba7-41f5-99a7-2e4d392ea30a"
      },
      "outputs": [
        {
          "output_type": "stream",
          "name": "stdout",
          "text": [
            "Acurácia do modelo Naive Bayes Gaussiano década 00s, foi de 65.16 %. \n",
            "Matriz de confusão modelo Naive Bayes Gaussiano década 00s:\n",
            " [[149   5  13  14   3]\n",
            " [  9  83   4  41   0]\n",
            " [ 28  12  58  43   0]\n",
            " [  6  18   7 130   0]\n",
            " [  8  15   2   3  12]]\n"
          ]
        }
      ],
      "source": [
        "print(\"Acurácia do modelo Naive Bayes Gaussiano década 00s, foi de\", round(accuracy_score(y_test00, preditoG00)*100,2),\"%.\",\n",
        "      \"\\nMatriz de confusão modelo Naive Bayes Gaussiano década 00s:\\n\",confG00)"
      ]
    },
    {
      "cell_type": "markdown",
      "metadata": {
        "id": "cEbGWL1f5ioS"
      },
      "source": [
        "Classificador Multinomial Naive Bayes"
      ]
    },
    {
      "cell_type": "code",
      "execution_count": null,
      "metadata": {
        "id": "SMi-Gzzs5jkh"
      },
      "outputs": [],
      "source": [
        "modeloM00 = MultinomialNB()"
      ]
    },
    {
      "cell_type": "markdown",
      "metadata": {
        "id": "FbDnF-UA5oMP"
      },
      "source": [
        "Achando os melhores parâmetros"
      ]
    },
    {
      "cell_type": "code",
      "execution_count": null,
      "metadata": {
        "id": "LoUZ3Yes5mHA"
      },
      "outputs": [],
      "source": [
        "paramM00 = {'alpha': (10,5,2,1, 0.1, 0.01, 0.001, 0.0001, 0.00001)  }  "
      ]
    },
    {
      "cell_type": "code",
      "execution_count": null,
      "metadata": {
        "id": "-QG8MJ225sFI"
      },
      "outputs": [],
      "source": [
        "grid5 = GridSearchCV(modeloM00,paramM00)"
      ]
    },
    {
      "cell_type": "code",
      "execution_count": null,
      "metadata": {
        "colab": {
          "base_uri": "https://localhost:8080/"
        },
        "id": "8Wul_uXX5v_o",
        "outputId": "fa25a927-34f3-4994-a025-1e7d1602b6e6"
      },
      "outputs": [
        {
          "output_type": "execute_result",
          "data": {
            "text/plain": [
              "GridSearchCV(estimator=MultinomialNB(),\n",
              "             param_grid={'alpha': (10, 5, 2, 1, 0.1, 0.01, 0.001, 0.0001,\n",
              "                                   1e-05)})"
            ]
          },
          "metadata": {},
          "execution_count": 76
        }
      ],
      "source": [
        "grid5.fit(X_train00,y_train00.values.ravel())"
      ]
    },
    {
      "cell_type": "code",
      "execution_count": null,
      "metadata": {
        "colab": {
          "base_uri": "https://localhost:8080/"
        },
        "id": "3QWq89De56MK",
        "outputId": "c12d8888-586e-4f06-9081-8ec929fc0f34"
      },
      "outputs": [
        {
          "output_type": "execute_result",
          "data": {
            "text/plain": [
              "MultinomialNB(alpha=2)"
            ]
          },
          "metadata": {},
          "execution_count": 77
        }
      ],
      "source": [
        "grid5.best_estimator_"
      ]
    },
    {
      "cell_type": "markdown",
      "metadata": {
        "id": "L9wOWnMm6Iav"
      },
      "source": [
        "Aplicando o melhor parâmetro"
      ]
    },
    {
      "cell_type": "code",
      "execution_count": null,
      "metadata": {
        "id": "dvGqQnYa6K5O"
      },
      "outputs": [],
      "source": [
        "modeloM_o00 = MultinomialNB(alpha=2)"
      ]
    },
    {
      "cell_type": "code",
      "execution_count": null,
      "metadata": {
        "colab": {
          "base_uri": "https://localhost:8080/"
        },
        "id": "JZb6AoCI6R4e",
        "outputId": "66a8509f-a9ab-4a71-ad85-df837f9d3de6"
      },
      "outputs": [
        {
          "output_type": "stream",
          "name": "stderr",
          "text": [
            "/usr/local/lib/python3.7/dist-packages/sklearn/utils/validation.py:993: DataConversionWarning: A column-vector y was passed when a 1d array was expected. Please change the shape of y to (n_samples, ), for example using ravel().\n",
            "  y = column_or_1d(y, warn=True)\n"
          ]
        },
        {
          "output_type": "execute_result",
          "data": {
            "text/plain": [
              "MultinomialNB(alpha=2)"
            ]
          },
          "metadata": {},
          "execution_count": 79
        }
      ],
      "source": [
        "modeloM_o00.fit(X_train00,y_train00)"
      ]
    },
    {
      "cell_type": "code",
      "execution_count": null,
      "metadata": {
        "id": "dvZ8M_pz6UOV"
      },
      "outputs": [],
      "source": [
        "preditoM00 = modeloM_o00.predict(X_test00)"
      ]
    },
    {
      "cell_type": "markdown",
      "metadata": {
        "id": "7GLXMlx36Xtk"
      },
      "source": [
        "Matriz de confusão do modelo Multinomial Naive Bayes, década 00s"
      ]
    },
    {
      "cell_type": "code",
      "execution_count": null,
      "metadata": {
        "id": "MADMHoYn6ZNb"
      },
      "outputs": [],
      "source": [
        "confM00 = confusion_matrix(y_test00,preditoM00)"
      ]
    },
    {
      "cell_type": "code",
      "execution_count": null,
      "metadata": {
        "colab": {
          "base_uri": "https://localhost:8080/"
        },
        "id": "3byAVYZo6cNh",
        "outputId": "c548256c-139b-44fc-b9f8-1218ce039fd9"
      },
      "outputs": [
        {
          "output_type": "stream",
          "name": "stdout",
          "text": [
            "Acurácia do modelo Naive Bayes Multinomial década 00s, foi de 48.27 %. \n",
            "Matriz de confusão modelo Naive Bayes Multinomial década 00s:\n",
            " [[ 94   7   6  18  59]\n",
            " [ 16  32  17  70   2]\n",
            " [ 28   7  51  52   3]\n",
            " [  2  19  11 129   0]\n",
            " [  6   4   6  10  14]]\n"
          ]
        }
      ],
      "source": [
        "print(\"Acurácia do modelo Naive Bayes Multinomial década 00s, foi de\", round(accuracy_score(y_test00, preditoM00)*100,2),\"%.\",\n",
        "      \"\\nMatriz de confusão modelo Naive Bayes Multinomial década 00s:\\n\",confM00)"
      ]
    },
    {
      "cell_type": "markdown",
      "metadata": {
        "id": "JxJJX81-6h4Y"
      },
      "source": [
        "\n",
        "\n",
        "Classificador Naive Bayes Bernoulli\n"
      ]
    },
    {
      "cell_type": "code",
      "execution_count": null,
      "metadata": {
        "id": "v7v0VDIR6jMq"
      },
      "outputs": [],
      "source": [
        "modeloB00 = BernoulliNB()"
      ]
    },
    {
      "cell_type": "markdown",
      "metadata": {
        "id": "lSf02BQM6l04"
      },
      "source": [
        "Achando os melhores parâmetros"
      ]
    },
    {
      "cell_type": "code",
      "execution_count": null,
      "metadata": {
        "id": "dyvL2MQz6mzW"
      },
      "outputs": [],
      "source": [
        "paramB00 = {'alpha': [-10, -5,0.000001,0.00001,0.0001,0.001,0.005,0.01, 0.1, 0.5, 1.0, 10.0], 'binarize':[-10,-5,1,5,10,25,50,75,100,500]}"
      ]
    },
    {
      "cell_type": "code",
      "execution_count": null,
      "metadata": {
        "id": "hQ_KNdTz6tCO"
      },
      "outputs": [],
      "source": [
        "grid6 = GridSearchCV(modeloB00,paramB00)"
      ]
    },
    {
      "cell_type": "code",
      "execution_count": null,
      "metadata": {
        "colab": {
          "base_uri": "https://localhost:8080/"
        },
        "id": "8AtYqBdG6xG5",
        "outputId": "6dd6a5e3-3bbe-4de7-af68-df4e9f666e8f"
      },
      "outputs": [
        {
          "output_type": "stream",
          "name": "stderr",
          "text": [
            "/usr/local/lib/python3.7/dist-packages/sklearn/model_selection/_validation.py:372: FitFailedWarning: \n",
            "100 fits failed out of a total of 600.\n",
            "The score on these train-test partitions for these parameters will be set to nan.\n",
            "If these failures are not expected, you can try to debug them by setting error_score='raise'.\n",
            "\n",
            "Below are more details about the failures:\n",
            "--------------------------------------------------------------------------------\n",
            "50 fits failed with the following error:\n",
            "Traceback (most recent call last):\n",
            "  File \"/usr/local/lib/python3.7/dist-packages/sklearn/model_selection/_validation.py\", line 680, in _fit_and_score\n",
            "    estimator.fit(X_train, y_train, **fit_params)\n",
            "  File \"/usr/local/lib/python3.7/dist-packages/sklearn/naive_bayes.py\", line 691, in fit\n",
            "    alpha = self._check_alpha()\n",
            "  File \"/usr/local/lib/python3.7/dist-packages/sklearn/naive_bayes.py\", line 547, in _check_alpha\n",
            "    % np.min(self.alpha)\n",
            "ValueError: Smoothing parameter alpha = -1.0e+01. alpha should be > 0.\n",
            "\n",
            "--------------------------------------------------------------------------------\n",
            "50 fits failed with the following error:\n",
            "Traceback (most recent call last):\n",
            "  File \"/usr/local/lib/python3.7/dist-packages/sklearn/model_selection/_validation.py\", line 680, in _fit_and_score\n",
            "    estimator.fit(X_train, y_train, **fit_params)\n",
            "  File \"/usr/local/lib/python3.7/dist-packages/sklearn/naive_bayes.py\", line 691, in fit\n",
            "    alpha = self._check_alpha()\n",
            "  File \"/usr/local/lib/python3.7/dist-packages/sklearn/naive_bayes.py\", line 547, in _check_alpha\n",
            "    % np.min(self.alpha)\n",
            "ValueError: Smoothing parameter alpha = -5.0e+00. alpha should be > 0.\n",
            "\n",
            "  warnings.warn(some_fits_failed_message, FitFailedWarning)\n",
            "/usr/local/lib/python3.7/dist-packages/sklearn/model_selection/_search.py:972: UserWarning: One or more of the test scores are non-finite: [       nan        nan        nan        nan        nan        nan\n",
            "        nan        nan        nan        nan        nan        nan\n",
            "        nan        nan        nan        nan        nan        nan\n",
            "        nan        nan 0.26244493 0.26244493 0.42141351 0.4233657\n",
            " 0.43823572 0.41365696 0.4925629  0.47444827 0.43372586 0.26244493\n",
            " 0.26244493 0.26244493 0.42141351 0.4233657  0.43823572 0.41365696\n",
            " 0.4925629  0.47444827 0.43372586 0.26244493 0.26244493 0.26244493\n",
            " 0.42141351 0.4233657  0.43823572 0.41365696 0.4925629  0.47444827\n",
            " 0.43372586 0.26244493 0.26244493 0.26244493 0.42141351 0.4233657\n",
            " 0.43823572 0.41365696 0.4925629  0.47444827 0.43372586 0.26244493\n",
            " 0.26244493 0.26244493 0.42141351 0.4233657  0.43823572 0.41365696\n",
            " 0.4925629  0.47444827 0.43372586 0.26244493 0.26244493 0.26244493\n",
            " 0.42141351 0.4233657  0.43823572 0.41365696 0.4925629  0.47444827\n",
            " 0.43372586 0.26244493 0.26244493 0.26244493 0.42141351 0.4233657\n",
            " 0.43823572 0.41365696 0.4925629  0.47444827 0.43372586 0.26244493\n",
            " 0.26244493 0.26244493 0.42141351 0.4233657  0.43823572 0.41365696\n",
            " 0.4925629  0.47444827 0.43372586 0.26244493 0.26244493 0.26244493\n",
            " 0.41947802 0.4233657  0.43823572 0.41365696 0.4925629  0.47444827\n",
            " 0.43372586 0.26244493 0.26244493 0.26244493 0.41753419 0.4233657\n",
            " 0.43823572 0.41365696 0.47380729 0.47444827 0.43372586 0.26244493]\n",
            "  category=UserWarning,\n"
          ]
        },
        {
          "output_type": "execute_result",
          "data": {
            "text/plain": [
              "GridSearchCV(estimator=BernoulliNB(),\n",
              "             param_grid={'alpha': [-10, -5, 1e-06, 1e-05, 0.0001, 0.001, 0.005,\n",
              "                                   0.01, 0.1, 0.5, 1.0, 10.0],\n",
              "                         'binarize': [-10, -5, 1, 5, 10, 25, 50, 75, 100, 500]})"
            ]
          },
          "metadata": {},
          "execution_count": 86
        }
      ],
      "source": [
        "grid6.fit(X_train00,y_train00.values.ravel())"
      ]
    },
    {
      "cell_type": "code",
      "execution_count": null,
      "metadata": {
        "colab": {
          "base_uri": "https://localhost:8080/"
        },
        "id": "AJolOtNr6-as",
        "outputId": "6a23e233-ebaa-43c5-88f6-239e68f6125f"
      },
      "outputs": [
        {
          "output_type": "execute_result",
          "data": {
            "text/plain": [
              "BernoulliNB(alpha=1e-06, binarize=50)"
            ]
          },
          "metadata": {},
          "execution_count": 87
        }
      ],
      "source": [
        "grid3.best_estimator_"
      ]
    },
    {
      "cell_type": "markdown",
      "metadata": {
        "id": "KYgfAolI67cb"
      },
      "source": [
        "Aplicando o melhor parâmetro"
      ]
    },
    {
      "cell_type": "code",
      "execution_count": null,
      "metadata": {
        "id": "ECM2GkHe7C-m"
      },
      "outputs": [],
      "source": [
        "modeloB_o00 = BernoulliNB(alpha=1e-06, binarize=50)"
      ]
    },
    {
      "cell_type": "code",
      "execution_count": null,
      "metadata": {
        "colab": {
          "base_uri": "https://localhost:8080/"
        },
        "id": "Q7drcM4r7Ebi",
        "outputId": "2d046a26-a5f2-4ca9-a9b4-36bbed5daf9f"
      },
      "outputs": [
        {
          "output_type": "stream",
          "name": "stderr",
          "text": [
            "/usr/local/lib/python3.7/dist-packages/sklearn/utils/validation.py:993: DataConversionWarning: A column-vector y was passed when a 1d array was expected. Please change the shape of y to (n_samples, ), for example using ravel().\n",
            "  y = column_or_1d(y, warn=True)\n"
          ]
        },
        {
          "output_type": "execute_result",
          "data": {
            "text/plain": [
              "BernoulliNB(alpha=1e-06, binarize=50)"
            ]
          },
          "metadata": {},
          "execution_count": 89
        }
      ],
      "source": [
        "modeloB_o00.fit(X_train00,y_train00)"
      ]
    },
    {
      "cell_type": "code",
      "execution_count": null,
      "metadata": {
        "id": "jL6xeseM7ISh"
      },
      "outputs": [],
      "source": [
        "preditoB00 = modeloB_o00.predict(X_test00)"
      ]
    },
    {
      "cell_type": "markdown",
      "metadata": {
        "id": "5WICNSBC7N3Q"
      },
      "source": [
        "Matriz de confusão do modelo Bernoulli Naive Bayes, década 00s\n"
      ]
    },
    {
      "cell_type": "code",
      "execution_count": null,
      "metadata": {
        "id": "JP7AiE6H7MI1"
      },
      "outputs": [],
      "source": [
        "confB00 = confusion_matrix(preditoB00,y_test00)"
      ]
    },
    {
      "cell_type": "code",
      "execution_count": null,
      "metadata": {
        "colab": {
          "base_uri": "https://localhost:8080/"
        },
        "id": "lMPzpbZI7TFG",
        "outputId": "90606cb4-7a41-487c-d11e-5bcc59e549ea"
      },
      "outputs": [
        {
          "output_type": "stream",
          "name": "stdout",
          "text": [
            "Acurácia do modelo  Bernoulli Naive Bayes década 00s, foi de 52.64 %. \n",
            "Matriz de confusão modelo  Bernoulli Naive Bayes década 00s:\n",
            " [[153  13  41   1  20]\n",
            " [  0   0   0   0   0]\n",
            " [ 20   7  61  25   0]\n",
            " [ 11 117  39 135  20]\n",
            " [  0   0   0   0   0]]\n"
          ]
        }
      ],
      "source": [
        "print(\"Acurácia do modelo  Bernoulli Naive Bayes década 00s, foi de\", round(accuracy_score(y_test00, preditoB00)*100,2),\"%.\",\n",
        "      \"\\nMatriz de confusão modelo  Bernoulli Naive Bayes década 00s:\\n\",confB00)"
      ]
    },
    {
      "cell_type": "markdown",
      "metadata": {
        "id": "v6A-3FXM3rWs"
      },
      "source": [
        "#SVM da Década de 90s"
      ]
    },
    {
      "cell_type": "markdown",
      "metadata": {
        "id": "Tb-K3L4J3Qhy"
      },
      "source": [
        "Máquina de Vetores de Suporte (SVM)"
      ]
    },
    {
      "cell_type": "code",
      "execution_count": null,
      "metadata": {
        "id": "10H91UyE3P_Y"
      },
      "outputs": [],
      "source": [
        "from sklearn.svm import SVC"
      ]
    },
    {
      "cell_type": "markdown",
      "metadata": {
        "id": "ms7jJ_c33VIm"
      },
      "source": [
        "Classificação Linear das SVM"
      ]
    },
    {
      "cell_type": "code",
      "execution_count": null,
      "metadata": {
        "id": "gFhIlRPH3bn1"
      },
      "outputs": [],
      "source": [
        "svm_l = SVC()"
      ]
    },
    {
      "cell_type": "markdown",
      "metadata": {
        "id": "vYQDQOTn7eIi"
      },
      "source": [
        "Aplicando o GridSearchCV para achar os melhores parâmetros"
      ]
    },
    {
      "cell_type": "code",
      "execution_count": null,
      "metadata": {
        "id": "WEf3z30H7e3c"
      },
      "outputs": [],
      "source": [
        "paramSL = {'kernel':['linear'], 'C':[1,5,10,100],'gamma':[1,5,50,100]}"
      ]
    },
    {
      "cell_type": "code",
      "execution_count": null,
      "metadata": {
        "id": "X7paykJE7mnt"
      },
      "outputs": [],
      "source": [
        "#Pode ser ignorado\n",
        "grid7 = GridSearchCV(svm_l,paramSL)"
      ]
    },
    {
      "cell_type": "code",
      "execution_count": null,
      "metadata": {
        "colab": {
          "base_uri": "https://localhost:8080/"
        },
        "id": "K2oOU5RU7sjZ",
        "outputId": "20668ce2-913a-4777-ea12-c506b83ab9e2"
      },
      "outputs": [
        {
          "output_type": "execute_result",
          "data": {
            "text/plain": [
              "GridSearchCV(estimator=SVC(),\n",
              "             param_grid={'C': [1, 5, 10, 100], 'gamma': [1, 5, 50, 100],\n",
              "                         'kernel': ['linear']})"
            ]
          },
          "metadata": {},
          "execution_count": 97
        }
      ],
      "source": [
        "#Pode se ignorado, pois demorou 1 hora para processar\n",
        "grid7.fit(X_train90,y_train90.values.ravel())"
      ]
    },
    {
      "cell_type": "code",
      "execution_count": null,
      "metadata": {
        "colab": {
          "base_uri": "https://localhost:8080/"
        },
        "id": "BV6A1Uag73Vg",
        "outputId": "2d0de7ba-3d2d-400f-d5a0-c1aeb476b0f6"
      },
      "outputs": [
        {
          "output_type": "execute_result",
          "data": {
            "text/plain": [
              "SVC(C=100, gamma=1, kernel='linear')"
            ]
          },
          "metadata": {},
          "execution_count": 98
        }
      ],
      "source": [
        "#Pode ser ignorado\n",
        "grid7.best_estimator_"
      ]
    },
    {
      "cell_type": "markdown",
      "metadata": {
        "id": "Nd12FCag77to"
      },
      "source": [
        "Aplicando o melhor parâmetro"
      ]
    },
    {
      "cell_type": "code",
      "execution_count": null,
      "metadata": {
        "id": "tDayfrHx79uw"
      },
      "outputs": [],
      "source": [
        "svm_l_o = SVC(C=10, gamma=1, kernel='linear')"
      ]
    },
    {
      "cell_type": "code",
      "execution_count": null,
      "metadata": {
        "id": "9dBbJLbL8wK_",
        "colab": {
          "base_uri": "https://localhost:8080/"
        },
        "outputId": "1d20846c-e13f-432f-e9ea-dff3b2459a6c"
      },
      "outputs": [
        {
          "output_type": "stream",
          "name": "stderr",
          "text": [
            "/usr/local/lib/python3.7/dist-packages/sklearn/utils/validation.py:993: DataConversionWarning: A column-vector y was passed when a 1d array was expected. Please change the shape of y to (n_samples, ), for example using ravel().\n",
            "  y = column_or_1d(y, warn=True)\n"
          ]
        },
        {
          "output_type": "execute_result",
          "data": {
            "text/plain": [
              "SVC(C=10, gamma=1, kernel='linear')"
            ]
          },
          "metadata": {},
          "execution_count": 97
        }
      ],
      "source": [
        "svm_l_o.fit(X_train90,y_train90)"
      ]
    },
    {
      "cell_type": "code",
      "execution_count": null,
      "metadata": {
        "id": "OKkzEkvG80Hi"
      },
      "outputs": [],
      "source": [
        "preditoS_l = svm_l_o.predict(X_test90)"
      ]
    },
    {
      "cell_type": "markdown",
      "metadata": {
        "id": "e6yFrHeV84SN"
      },
      "source": [
        "Matriz de confusão do modelo SVM Linear"
      ]
    },
    {
      "cell_type": "code",
      "execution_count": null,
      "metadata": {
        "id": "BHvncWL185QN"
      },
      "outputs": [],
      "source": [
        "confS_l = confusion_matrix(y_test90,preditoS_l)"
      ]
    },
    {
      "cell_type": "code",
      "execution_count": null,
      "metadata": {
        "id": "gGnfGaiX88kt",
        "colab": {
          "base_uri": "https://localhost:8080/"
        },
        "outputId": "9c15180b-845a-4b5e-cc08-d8e954822ee6"
      },
      "outputs": [
        {
          "output_type": "stream",
          "name": "stdout",
          "text": [
            "Acurácia do modelo  SVM Linear década 90s, foi de 69.83 %. \n",
            "Matriz de confusão modelo  SVM Linear década 90s:\n",
            " [[138  13  31   4   2]\n",
            " [  7  94   4  30   0]\n",
            " [ 14  10  84  31   4]\n",
            " [  0  18  13 122   0]\n",
            " [  3  12   0   4  25]]\n"
          ]
        }
      ],
      "source": [
        "print(\"Acurácia do modelo  SVM Linear década 90s, foi de\", round(accuracy_score(y_test90, preditoS_l)*100,2),\"%.\",\n",
        "      \"\\nMatriz de confusão modelo  SVM Linear década 90s:\\n\",confS_l)"
      ]
    },
    {
      "cell_type": "markdown",
      "metadata": {
        "id": "M1zpXLg79CXs"
      },
      "source": [
        "Classificação SVM Kernel Polinomial"
      ]
    },
    {
      "cell_type": "code",
      "execution_count": null,
      "metadata": {
        "id": "26vl9FX69EvH"
      },
      "outputs": [],
      "source": [
        "svm_p = SVC()"
      ]
    },
    {
      "cell_type": "markdown",
      "metadata": {
        "id": "lfGgaVl99Hhk"
      },
      "source": [
        "Aplicando o GridSearchCV para achar os melhores parâmetros\n"
      ]
    },
    {
      "cell_type": "code",
      "execution_count": null,
      "metadata": {
        "id": "hrHnZPyt9G1e"
      },
      "outputs": [],
      "source": [
        "paramSP = {'kernel':['poly'],'degree':[1,2,4,3,5,6,7,8]}"
      ]
    },
    {
      "cell_type": "code",
      "execution_count": null,
      "metadata": {
        "id": "YN7Vc7Of9TYY"
      },
      "outputs": [],
      "source": [
        "#Pode ser ignorado\n",
        "grid8 = GridSearchCV(svm_p,paramSP)"
      ]
    },
    {
      "cell_type": "code",
      "execution_count": null,
      "metadata": {
        "id": "1H2-8wl59ZpR",
        "colab": {
          "base_uri": "https://localhost:8080/"
        },
        "outputId": "d46e9f50-cd59-42aa-dd6d-76c2a4845249"
      },
      "outputs": [
        {
          "output_type": "execute_result",
          "data": {
            "text/plain": [
              "GridSearchCV(estimator=SVC(),\n",
              "             param_grid={'degree': [1, 2, 4, 3, 5, 6, 7, 8],\n",
              "                         'kernel': ['poly']})"
            ]
          },
          "metadata": {},
          "execution_count": 107
        }
      ],
      "source": [
        "#Pode ser ignorado, pois 15 minutos para processar\n",
        "grid8.fit(X_train90,y_train90.values.ravel())"
      ]
    },
    {
      "cell_type": "code",
      "execution_count": null,
      "metadata": {
        "id": "_IiAfJyT9dDT",
        "colab": {
          "base_uri": "https://localhost:8080/"
        },
        "outputId": "bd4d9834-7df9-41a5-95d1-72457d702150"
      },
      "outputs": [
        {
          "output_type": "execute_result",
          "data": {
            "text/plain": [
              "SVC(degree=1, kernel='poly')"
            ]
          },
          "metadata": {},
          "execution_count": 108
        }
      ],
      "source": [
        "#Pode ser ignorado\n",
        "grid8.best_estimator_"
      ]
    },
    {
      "cell_type": "markdown",
      "metadata": {
        "id": "UfR8OClw9gWA"
      },
      "source": [
        "Aplicando o melhor parâmetro"
      ]
    },
    {
      "cell_type": "code",
      "execution_count": null,
      "metadata": {
        "id": "i-hov6V09g8v"
      },
      "outputs": [],
      "source": [
        "svm_p_o = SVC(degree=1, kernel='poly')"
      ]
    },
    {
      "cell_type": "code",
      "execution_count": null,
      "metadata": {
        "id": "Ed2Kmthl9jm4",
        "colab": {
          "base_uri": "https://localhost:8080/"
        },
        "outputId": "0fcc4590-4209-480b-b746-201e69eb30f7"
      },
      "outputs": [
        {
          "output_type": "stream",
          "name": "stderr",
          "text": [
            "/usr/local/lib/python3.7/dist-packages/sklearn/utils/validation.py:993: DataConversionWarning: A column-vector y was passed when a 1d array was expected. Please change the shape of y to (n_samples, ), for example using ravel().\n",
            "  y = column_or_1d(y, warn=True)\n"
          ]
        },
        {
          "output_type": "execute_result",
          "data": {
            "text/plain": [
              "SVC(degree=1, kernel='poly')"
            ]
          },
          "metadata": {},
          "execution_count": 104
        }
      ],
      "source": [
        "svm_p_o.fit(X_train90,y_train90)"
      ]
    },
    {
      "cell_type": "code",
      "execution_count": null,
      "metadata": {
        "id": "r4TxjhFe9ndJ"
      },
      "outputs": [],
      "source": [
        "preditoS_p = svm_p_o.predict(X_test90)"
      ]
    },
    {
      "cell_type": "markdown",
      "metadata": {
        "id": "VhzT0Pp69oNE"
      },
      "source": [
        "Matriz de confusão do modelo SVM Polinomial"
      ]
    },
    {
      "cell_type": "code",
      "execution_count": null,
      "metadata": {
        "id": "qtkXVlzA9q4I"
      },
      "outputs": [],
      "source": [
        "confS_p = confusion_matrix(y_test90,preditoS_p)"
      ]
    },
    {
      "cell_type": "code",
      "execution_count": null,
      "metadata": {
        "id": "_faZToMg90mz",
        "colab": {
          "base_uri": "https://localhost:8080/"
        },
        "outputId": "f816e49a-9009-4783-8b62-769cfcc5c384"
      },
      "outputs": [
        {
          "output_type": "stream",
          "name": "stdout",
          "text": [
            "Acurácia do modelo SVM Polinomial década 90s, foi de 57.01 %. \n",
            "Matriz de confusão modelo SVM Polinomial década 90s:\n",
            " [[144   8  14  22   0]\n",
            " [  6  45   7  77   0]\n",
            " [ 23  13  72  35   0]\n",
            " [  0   7  29 117   0]\n",
            " [ 23   7   0  14   0]]\n"
          ]
        }
      ],
      "source": [
        "print(\"Acurácia do modelo SVM Polinomial década 90s, foi de\", round(accuracy_score(y_test90, preditoS_p)*100,2),\"%.\",\n",
        "      \"\\nMatriz de confusão modelo SVM Polinomial década 90s:\\n\",confS_p)"
      ]
    },
    {
      "cell_type": "markdown",
      "metadata": {
        "id": "hyznRDz594sE"
      },
      "source": [
        "\n",
        "\n",
        "Classificação SVM Kernel RBF Gaussiano"
      ]
    },
    {
      "cell_type": "code",
      "execution_count": null,
      "metadata": {
        "id": "S3i6QSUd958d"
      },
      "outputs": [],
      "source": [
        "svm_r = SVC()"
      ]
    },
    {
      "cell_type": "markdown",
      "metadata": {
        "id": "miHMX9kD97PW"
      },
      "source": [
        "Aplicando o GridSearchCV para achar os melhores parâmetros"
      ]
    },
    {
      "cell_type": "code",
      "execution_count": null,
      "metadata": {
        "id": "ZePE-OqX98kc"
      },
      "outputs": [],
      "source": [
        "paramSR = {'kernel':['rbf'],'C':[1,2,5,8,10,15,20,30,50,75,100],'gamma':[0.00001,0.0001,0.001,0.01,0.1,1,2,3,5,50,100]}"
      ]
    },
    {
      "cell_type": "code",
      "execution_count": null,
      "metadata": {
        "id": "Lj0-q9jh-b22"
      },
      "outputs": [],
      "source": [
        "grid8 = GridSearchCV(svm_r,paramSR)"
      ]
    },
    {
      "cell_type": "code",
      "execution_count": null,
      "metadata": {
        "id": "brjn9WI6-eY9",
        "colab": {
          "base_uri": "https://localhost:8080/"
        },
        "outputId": "bb9a2579-38ec-446d-c966-0b0f80914261"
      },
      "outputs": [
        {
          "output_type": "execute_result",
          "data": {
            "text/plain": [
              "GridSearchCV(estimator=SVC(),\n",
              "             param_grid={'C': [1, 2, 5, 8, 10, 15, 20, 30, 50, 75, 100],\n",
              "                         'gamma': [1e-05, 0.0001, 0.001, 0.01, 0.1, 1, 2, 3, 5,\n",
              "                                   50, 100],\n",
              "                         'kernel': ['rbf']})"
            ]
          },
          "metadata": {},
          "execution_count": 112
        }
      ],
      "source": [
        "grid8.fit(X_train90,y_train90.values.ravel())"
      ]
    },
    {
      "cell_type": "code",
      "execution_count": null,
      "metadata": {
        "id": "Brcn3Ba_-kFM",
        "colab": {
          "base_uri": "https://localhost:8080/"
        },
        "outputId": "563a6b97-f556-4335-e8ec-af2e0962acd8"
      },
      "outputs": [
        {
          "output_type": "execute_result",
          "data": {
            "text/plain": [
              "SVC(C=100, gamma=0.01)"
            ]
          },
          "metadata": {},
          "execution_count": 113
        }
      ],
      "source": [
        "grid8.best_estimator_"
      ]
    },
    {
      "cell_type": "markdown",
      "metadata": {
        "id": "vSHeFZxe-lra"
      },
      "source": [
        "Aplicando o melhor parâmetro"
      ]
    },
    {
      "cell_type": "code",
      "execution_count": null,
      "metadata": {
        "id": "OrsD2u-X-m-v"
      },
      "outputs": [],
      "source": [
        "svm_r_o = SVC(C=100, gamma=0.01)"
      ]
    },
    {
      "cell_type": "code",
      "execution_count": null,
      "metadata": {
        "id": "qfTozEL8-ol6",
        "colab": {
          "base_uri": "https://localhost:8080/"
        },
        "outputId": "3b54c902-01a7-423a-f513-84b3082ce70b"
      },
      "outputs": [
        {
          "output_type": "stream",
          "name": "stderr",
          "text": [
            "/usr/local/lib/python3.7/dist-packages/sklearn/utils/validation.py:993: DataConversionWarning: A column-vector y was passed when a 1d array was expected. Please change the shape of y to (n_samples, ), for example using ravel().\n",
            "  y = column_or_1d(y, warn=True)\n"
          ]
        },
        {
          "output_type": "execute_result",
          "data": {
            "text/plain": [
              "SVC(C=100, gamma=0.01)"
            ]
          },
          "metadata": {},
          "execution_count": 115
        }
      ],
      "source": [
        "svm_r_o.fit(X_train90,y_train90)"
      ]
    },
    {
      "cell_type": "code",
      "execution_count": null,
      "metadata": {
        "id": "uIH65J6V-rfw"
      },
      "outputs": [],
      "source": [
        "preditoS_r = svm_r_o.predict(X_test90)"
      ]
    },
    {
      "cell_type": "markdown",
      "metadata": {
        "id": "I1v5uXsg-tuw"
      },
      "source": [
        "Matriz de confusão do modelo SVM RBF Gaussiano"
      ]
    },
    {
      "cell_type": "code",
      "execution_count": null,
      "metadata": {
        "id": "VdyhmtEt-snm"
      },
      "outputs": [],
      "source": [
        "confS_r = confusion_matrix(y_test90,preditoS_r)"
      ]
    },
    {
      "cell_type": "code",
      "execution_count": null,
      "metadata": {
        "id": "jwsliKH1-x18",
        "colab": {
          "base_uri": "https://localhost:8080/"
        },
        "outputId": "d5f493ff-a9ee-4a93-8975-9f420d6ed508"
      },
      "outputs": [
        {
          "output_type": "stream",
          "name": "stdout",
          "text": [
            "Acurácia do modelo SVM RBF Gaussiano década 90s, foi de 87.78 %. \n",
            "Matriz de confusão modelo  SVM RBF Gaussiano década 90s:\n",
            " [[165   8  11   1   3]\n",
            " [  7 119   3   5   1]\n",
            " [ 14   3 119   7   0]\n",
            " [  8   3   4 138   0]\n",
            " [  2   1   0   0  41]]\n"
          ]
        }
      ],
      "source": [
        "print(\"Acurácia do modelo SVM RBF Gaussiano década 90s, foi de\", round(accuracy_score(y_test90, preditoS_r)*100,2),\"%.\",\n",
        "      \"\\nMatriz de confusão modelo  SVM RBF Gaussiano década 90s:\\n\",confS_r)"
      ]
    },
    {
      "cell_type": "markdown",
      "metadata": {
        "id": "bloQCyVF-5pR"
      },
      "source": [
        "#SVM da Décade 00s"
      ]
    },
    {
      "cell_type": "markdown",
      "metadata": {
        "id": "BbW4tbYR_F43"
      },
      "source": [
        "Classificação Linear das SVM"
      ]
    },
    {
      "cell_type": "code",
      "execution_count": null,
      "metadata": {
        "id": "FRSumc1W_ARd"
      },
      "outputs": [],
      "source": [
        "svm_l00 = SVC()"
      ]
    },
    {
      "cell_type": "markdown",
      "metadata": {
        "id": "YmPRiqPZ_L-m"
      },
      "source": [
        "Aplicando o GridSearchCV para achar os melhores parâmetros"
      ]
    },
    {
      "cell_type": "code",
      "execution_count": null,
      "metadata": {
        "id": "gFet1lte_KW9"
      },
      "outputs": [],
      "source": [
        "paramSL00 = {'kernel':['linear'], 'C':[1,5,10,100],'gamma':[1,5,50,100]}"
      ]
    },
    {
      "cell_type": "code",
      "execution_count": null,
      "metadata": {
        "id": "ZIzkBSpi_Oun"
      },
      "outputs": [],
      "source": [
        "#Pode ser ignorado\n",
        "grid9 = GridSearchCV(svm_l00,paramSL00)"
      ]
    },
    {
      "cell_type": "code",
      "execution_count": null,
      "metadata": {
        "id": "UWDOW8GW_TP1"
      },
      "outputs": [],
      "source": [
        "#Pode ser ignorado, pois demorou 47 minutos para processar\n",
        "grid9.fit(X_train00,y_train00.values.ravel())"
      ]
    },
    {
      "cell_type": "code",
      "execution_count": null,
      "metadata": {
        "id": "E05rcjqo_WXy"
      },
      "outputs": [],
      "source": [
        "#Pode ser ignorado\n",
        "grid9.best_estimator_"
      ]
    },
    {
      "cell_type": "markdown",
      "metadata": {
        "id": "oQeK3OE6_Yz1"
      },
      "source": [
        "Aplicando o melhor parâmetro"
      ]
    },
    {
      "cell_type": "code",
      "execution_count": null,
      "metadata": {
        "id": "RTcUSy5X_Zed"
      },
      "outputs": [],
      "source": [
        "svm_l_o00 = SVC(C=100, gamma=1, kernel='linear')"
      ]
    },
    {
      "cell_type": "code",
      "execution_count": null,
      "metadata": {
        "id": "0evPhEWL_cvW",
        "colab": {
          "base_uri": "https://localhost:8080/"
        },
        "outputId": "e907c951-f404-4bda-839d-505b79a0afd1"
      },
      "outputs": [
        {
          "output_type": "stream",
          "name": "stderr",
          "text": [
            "/usr/local/lib/python3.7/dist-packages/sklearn/utils/validation.py:993: DataConversionWarning: A column-vector y was passed when a 1d array was expected. Please change the shape of y to (n_samples, ), for example using ravel().\n",
            "  y = column_or_1d(y, warn=True)\n"
          ]
        },
        {
          "output_type": "execute_result",
          "data": {
            "text/plain": [
              "SVC(C=100, gamma=1, kernel='linear')"
            ]
          },
          "metadata": {},
          "execution_count": 122
        }
      ],
      "source": [
        "svm_l_o00.fit(X_train00,y_train00)"
      ]
    },
    {
      "cell_type": "code",
      "execution_count": null,
      "metadata": {
        "id": "mJZVTpjU_eco"
      },
      "outputs": [],
      "source": [
        "preditoS_l00 = svm_l_o00.predict(X_test00)"
      ]
    },
    {
      "cell_type": "markdown",
      "metadata": {
        "id": "1etYqLLb_iQK"
      },
      "source": [
        "Matriz de confusão do modelo SVM Linear"
      ]
    },
    {
      "cell_type": "code",
      "execution_count": null,
      "metadata": {
        "id": "j48C8SG7_je4"
      },
      "outputs": [],
      "source": [
        "confS_l00 = confusion_matrix(y_test00,preditoS_l00)"
      ]
    },
    {
      "cell_type": "code",
      "execution_count": null,
      "metadata": {
        "id": "OliCE4W6_lrI",
        "colab": {
          "base_uri": "https://localhost:8080/"
        },
        "outputId": "fd42c45e-1f67-4e88-e369-39db91ff8c05"
      },
      "outputs": [
        {
          "output_type": "stream",
          "name": "stdout",
          "text": [
            "Acurácia do modelo SVM Linear década 00s, foi de 68.63 %. \n",
            "Matriz de confusão modelo SVM Linear década 00s:\n",
            " [[156   4  21   3   0]\n",
            " [ 15  82   8  32   0]\n",
            " [ 32  11  74  24   0]\n",
            " [  3  19  14 125   0]\n",
            " [  2  14   0   6  18]]\n"
          ]
        }
      ],
      "source": [
        "print(\"Acurácia do modelo SVM Linear década 00s, foi de\", round(accuracy_score(y_test00, preditoS_l00)*100,2),\"%.\",\n",
        "      \"\\nMatriz de confusão modelo SVM Linear década 00s:\\n\",confS_l00)"
      ]
    },
    {
      "cell_type": "markdown",
      "metadata": {
        "id": "ozqVTxgo_pGp"
      },
      "source": [
        "\n",
        "\n",
        "Classificação SVM Kernel Polinomial\n"
      ]
    },
    {
      "cell_type": "code",
      "execution_count": null,
      "metadata": {
        "id": "g368oFFu_xqB"
      },
      "outputs": [],
      "source": [
        "svm_p00 = SVC()"
      ]
    },
    {
      "cell_type": "markdown",
      "metadata": {
        "id": "OB8wLFSd_z7N"
      },
      "source": [
        "Aplicando o GridSearchCV para achar os melhores parâmetros\n"
      ]
    },
    {
      "cell_type": "code",
      "execution_count": null,
      "metadata": {
        "id": "ciaGtXn6_zaQ"
      },
      "outputs": [],
      "source": [
        "paramSP00 = {'kernel':['poly'],'degree':[1,2,4,3,5,6,7,8]}"
      ]
    },
    {
      "cell_type": "code",
      "execution_count": null,
      "metadata": {
        "id": "y8-sbgaS_3AB"
      },
      "outputs": [],
      "source": [
        "#Pode ser ignorado\n",
        "grid10 = GridSearchCV(svm_p00,paramSP00)"
      ]
    },
    {
      "cell_type": "code",
      "execution_count": null,
      "metadata": {
        "id": "6UGqH-79_6Ux",
        "colab": {
          "base_uri": "https://localhost:8080/"
        },
        "outputId": "6fe5223c-da01-41e1-a67e-a30b3bdc9a61"
      },
      "outputs": [
        {
          "output_type": "execute_result",
          "data": {
            "text/plain": [
              "GridSearchCV(estimator=SVC(),\n",
              "             param_grid={'degree': [1, 2, 4, 3, 5, 6, 7, 8],\n",
              "                         'kernel': ['poly']})"
            ]
          },
          "metadata": {},
          "execution_count": 142
        }
      ],
      "source": [
        "#Pode ser ignorado, pois demorou 3 minutos para rodar\n",
        "grid10.fit(X_train00,y_train00.values.ravel())"
      ]
    },
    {
      "cell_type": "code",
      "execution_count": null,
      "metadata": {
        "id": "rRpDXf9n_9Xd",
        "colab": {
          "base_uri": "https://localhost:8080/"
        },
        "outputId": "de34693f-449d-4a5a-ffc0-4bfce3bf0d85"
      },
      "outputs": [
        {
          "output_type": "execute_result",
          "data": {
            "text/plain": [
              "SVC(degree=5, kernel='poly')"
            ]
          },
          "metadata": {},
          "execution_count": 143
        }
      ],
      "source": [
        "#Pode ser ignorado\n",
        "grid10.best_estimator_"
      ]
    },
    {
      "cell_type": "markdown",
      "metadata": {
        "id": "L7cnlGg9__Cb"
      },
      "source": [
        "Aplicando o melhor parâmetro"
      ]
    },
    {
      "cell_type": "code",
      "execution_count": null,
      "metadata": {
        "id": "vNi8kALYAAlJ"
      },
      "outputs": [],
      "source": [
        "svm_p_o00 = SVC(degree=5, kernel='poly')"
      ]
    },
    {
      "cell_type": "code",
      "execution_count": null,
      "metadata": {
        "id": "OzjZ2rYjAD7A",
        "colab": {
          "base_uri": "https://localhost:8080/"
        },
        "outputId": "904b74fe-f8e1-4434-81ad-233051168ef4"
      },
      "outputs": [
        {
          "output_type": "stream",
          "name": "stderr",
          "text": [
            "/usr/local/lib/python3.7/dist-packages/sklearn/utils/validation.py:993: DataConversionWarning: A column-vector y was passed when a 1d array was expected. Please change the shape of y to (n_samples, ), for example using ravel().\n",
            "  y = column_or_1d(y, warn=True)\n"
          ]
        },
        {
          "output_type": "execute_result",
          "data": {
            "text/plain": [
              "SVC(degree=5, kernel='poly')"
            ]
          },
          "metadata": {},
          "execution_count": 129
        }
      ],
      "source": [
        "svm_p_o00.fit(X_train00,y_train00)"
      ]
    },
    {
      "cell_type": "code",
      "execution_count": null,
      "metadata": {
        "id": "BH9cgOtFAGHi"
      },
      "outputs": [],
      "source": [
        "preditoS_p00 = svm_p_o00.predict(X_test00)"
      ]
    },
    {
      "cell_type": "markdown",
      "metadata": {
        "id": "0g0QQXySAJ8V"
      },
      "source": [
        "Matriz de confusão do modelo SVM Polinomial"
      ]
    },
    {
      "cell_type": "code",
      "execution_count": null,
      "metadata": {
        "id": "V4-hfiDtAL0p"
      },
      "outputs": [],
      "source": [
        "confS_p00 = confusion_matrix(y_test00,preditoS_p00)"
      ]
    },
    {
      "cell_type": "code",
      "execution_count": null,
      "metadata": {
        "id": "v204R1FSAOmK",
        "colab": {
          "base_uri": "https://localhost:8080/"
        },
        "outputId": "0ebfbd71-9a8e-4c09-f545-a2cef07fdd65"
      },
      "outputs": [
        {
          "output_type": "stream",
          "name": "stdout",
          "text": [
            "Acurácia do modelo SVM Kernel Polinomial década 00s, foi de 56.56 %. \n",
            "Matriz de confusão modelo SVM Kernel Polinomial década 00s:\n",
            " [[155   3   2  24   0]\n",
            " [  8   6   0 123   0]\n",
            " [ 31   4  55  51   0]\n",
            " [  9   1   5 146   0]\n",
            " [  4   3   0  20  13]]\n"
          ]
        }
      ],
      "source": [
        "print(\"Acurácia do modelo SVM Kernel Polinomial década 00s, foi de\", round(accuracy_score(y_test00, preditoS_p00)*100,2),\"%.\",\n",
        "      \"\\nMatriz de confusão modelo SVM Kernel Polinomial década 00s:\\n\",confS_p00)"
      ]
    },
    {
      "cell_type": "markdown",
      "metadata": {
        "id": "TYNW-XtnASES"
      },
      "source": [
        "Classificação SVM Kernel RBF Gaussiano"
      ]
    },
    {
      "cell_type": "code",
      "execution_count": null,
      "metadata": {
        "id": "6E8gDeIKATT7"
      },
      "outputs": [],
      "source": [
        "svm_r00 = SVC()"
      ]
    },
    {
      "cell_type": "markdown",
      "metadata": {
        "id": "h6Cb8M9BAVpJ"
      },
      "source": [
        "Aplicando o GridSearchCV para achar os melhores parâmetros"
      ]
    },
    {
      "cell_type": "code",
      "execution_count": null,
      "metadata": {
        "id": "i5kkdHt2AX9y"
      },
      "outputs": [],
      "source": [
        "paramSR00 = {'kernel':['rbf'],'C':[1,2,5,8,10,15,20,30,50,75,100],'gamma':[0.00001,0.0001,0.001,0.01,0.1,1,2,3,5,50,100]}"
      ]
    },
    {
      "cell_type": "code",
      "execution_count": null,
      "metadata": {
        "id": "xxESBKosAaUN"
      },
      "outputs": [],
      "source": [
        "grid11 = GridSearchCV(svm_r00,paramSR00)"
      ]
    },
    {
      "cell_type": "code",
      "execution_count": null,
      "metadata": {
        "id": "h53Km5MNAdi8",
        "colab": {
          "base_uri": "https://localhost:8080/"
        },
        "outputId": "87b67125-a98e-48e7-9a82-25c3816dc945"
      },
      "outputs": [
        {
          "output_type": "execute_result",
          "data": {
            "text/plain": [
              "GridSearchCV(estimator=SVC(),\n",
              "             param_grid={'C': [1, 2, 5, 8, 10, 15, 20, 30, 50, 75, 100],\n",
              "                         'gamma': [1e-05, 0.0001, 0.001, 0.01, 0.1, 1, 2, 3, 5,\n",
              "                                   50, 100],\n",
              "                         'kernel': ['rbf']})"
            ]
          },
          "metadata": {},
          "execution_count": 155
        }
      ],
      "source": [
        "grid11.fit(X_train00,y_train00.values.ravel())"
      ]
    },
    {
      "cell_type": "code",
      "execution_count": null,
      "metadata": {
        "id": "QPiOmu0eAgCg",
        "colab": {
          "base_uri": "https://localhost:8080/"
        },
        "outputId": "251c216c-6b31-4f30-acce-2629b4436bab"
      },
      "outputs": [
        {
          "output_type": "execute_result",
          "data": {
            "text/plain": [
              "SVC(C=100, gamma=0.01)"
            ]
          },
          "metadata": {},
          "execution_count": 156
        }
      ],
      "source": [
        "grid11.best_estimator_"
      ]
    },
    {
      "cell_type": "markdown",
      "metadata": {
        "id": "DiCT9dvmAioS"
      },
      "source": [
        "Aplicando o melhor parâmetro"
      ]
    },
    {
      "cell_type": "code",
      "execution_count": null,
      "metadata": {
        "id": "8JtKqTwEAkXI"
      },
      "outputs": [],
      "source": [
        "svm_r_o00 = SVC(C=100, gamma=0.01)"
      ]
    },
    {
      "cell_type": "code",
      "execution_count": null,
      "metadata": {
        "id": "FFFbLxpfAlh3",
        "colab": {
          "base_uri": "https://localhost:8080/"
        },
        "outputId": "d9191289-8fb7-4926-c939-0ca80aaf1a4a"
      },
      "outputs": [
        {
          "output_type": "stream",
          "name": "stderr",
          "text": [
            "/usr/local/lib/python3.7/dist-packages/sklearn/utils/validation.py:993: DataConversionWarning: A column-vector y was passed when a 1d array was expected. Please change the shape of y to (n_samples, ), for example using ravel().\n",
            "  y = column_or_1d(y, warn=True)\n"
          ]
        },
        {
          "output_type": "execute_result",
          "data": {
            "text/plain": [
              "SVC(C=100, gamma=0.01)"
            ]
          },
          "metadata": {},
          "execution_count": 137
        }
      ],
      "source": [
        "svm_r_o00.fit(X_train00,y_train00)"
      ]
    },
    {
      "cell_type": "code",
      "execution_count": null,
      "metadata": {
        "id": "tZzpNqPwApDW"
      },
      "outputs": [],
      "source": [
        "preditoS_r00 = svm_r_o00.predict(X_test00)"
      ]
    },
    {
      "cell_type": "markdown",
      "metadata": {
        "id": "T8XnTI0RAudd"
      },
      "source": [
        "Matriz de confusão do modelo SVM RBF Gaussiano"
      ]
    },
    {
      "cell_type": "code",
      "execution_count": null,
      "metadata": {
        "id": "RgBE72aYArpV"
      },
      "outputs": [],
      "source": [
        "confS_r00 = confusion_matrix(y_test00,preditoS_r00)"
      ]
    },
    {
      "cell_type": "code",
      "execution_count": null,
      "metadata": {
        "id": "pnbR4p6xAxWX",
        "colab": {
          "base_uri": "https://localhost:8080/"
        },
        "outputId": "62a29adb-a64c-40ee-bba9-2664b5e8db71"
      },
      "outputs": [
        {
          "output_type": "stream",
          "name": "stdout",
          "text": [
            "Acurácia do modelo SVM RBF Gaussiano década 00s, foi de 85.07 %. \n",
            "Matriz de confusão modelo  SVM RBF Gaussiano década 00s:\n",
            " [[166   4   8   0   6]\n",
            " [  6 112   4  15   0]\n",
            " [ 14   8 107  12   0]\n",
            " [  4  10   8 139   0]\n",
            " [  0   0   0   0  40]]\n"
          ]
        }
      ],
      "source": [
        "print(\"Acurácia do modelo SVM RBF Gaussiano década 00s, foi de\", round(accuracy_score(y_test00, preditoS_r00)*100,2),\"%.\",\n",
        "      \"\\nMatriz de confusão modelo  SVM RBF Gaussiano década 00s:\\n\",confS_r00)"
      ]
    },
    {
      "cell_type": "markdown",
      "metadata": {
        "id": "84qwG7OCA4EA"
      },
      "source": [
        "#KNN\n"
      ]
    },
    {
      "cell_type": "markdown",
      "metadata": {
        "id": "9BnkxSIiBfhg"
      },
      "source": [
        "Achando o melhor número de vizinhos para a década 90's"
      ]
    },
    {
      "cell_type": "code",
      "execution_count": null,
      "metadata": {
        "id": "Rt9BVwVpA6FK"
      },
      "outputs": [],
      "source": [
        "from sklearn.neighbors import KNeighborsClassifier\n",
        "from sklearn.metrics import classification_report, confusion_matrix, accuracy_score"
      ]
    },
    {
      "cell_type": "code",
      "execution_count": null,
      "metadata": {
        "id": "KE-ctpsDBiXA",
        "colab": {
          "base_uri": "https://localhost:8080/"
        },
        "outputId": "07983bcb-4df6-4efd-c448-24754fd24e6b"
      },
      "outputs": [
        {
          "output_type": "stream",
          "name": "stdout",
          "text": [
            "Resultados para classificador KNN na década 90's\n",
            "Acurácia do modelo com 3 vizinhos foi de 80.0 %.\n",
            "Matriz de confusão detalhada do KNN,considerando 3 vizinhos:\n",
            " [[156   9  11   4   8]\n",
            " [  7 112   4  11   1]\n",
            " [ 17  10 101  15   0]\n",
            " [ 12   8   9 124   0]\n",
            " [  8   1   0   0  35]]\n",
            "Acurácia do modelo com 5 vizinhos foi de 78.0 %.\n",
            "Matriz de confusão detalhada do KNN,considerando 5 vizinhos:\n",
            " [[157  10  10   7   4]\n",
            " [  6 111   3  13   2]\n",
            " [ 21  10  96  16   0]\n",
            " [ 10   5  15 123   0]\n",
            " [  9   3   1   0  31]]\n",
            "Acurácia do modelo com 7 vizinhos foi de 75.0 %.\n",
            "Matriz de confusão detalhada do KNN,considerando 7 vizinhos:\n",
            " [[151  10  10   8   9]\n",
            " [  7 103   3  20   2]\n",
            " [ 22   8  98  15   0]\n",
            " [ 12   8  17 116   0]\n",
            " [ 11   3   1   0  29]]\n",
            "Acurácia do modelo com 10 vizinhos foi de 73.0 %.\n",
            "Matriz de confusão detalhada do KNN,considerando 10 vizinhos:\n",
            " [[152   9   9  10   8]\n",
            " [  5  98   6  25   1]\n",
            " [ 22   6  97  18   0]\n",
            " [ 11   9  20 113   0]\n",
            " [ 11   5   1   0  27]]\n",
            "Acurácia do modelo com 33 vizinhos foi de 63.0 %.\n",
            "Matriz de confusão detalhada do KNN,considerando 33 vizinhos:\n",
            " [[146   9  20  13   0]\n",
            " [  4  93  11  26   1]\n",
            " [ 27  10  79  27   0]\n",
            " [  1  17  34 101   0]\n",
            " [ 22   7   4   9   2]]\n"
          ]
        },
        {
          "output_type": "stream",
          "name": "stderr",
          "text": [
            "/usr/local/lib/python3.7/dist-packages/sklearn/neighbors/_classification.py:198: DataConversionWarning: A column-vector y was passed when a 1d array was expected. Please change the shape of y to (n_samples,), for example using ravel().\n",
            "  return self._fit(X, y)\n",
            "/usr/local/lib/python3.7/dist-packages/sklearn/neighbors/_classification.py:198: DataConversionWarning: A column-vector y was passed when a 1d array was expected. Please change the shape of y to (n_samples,), for example using ravel().\n",
            "  return self._fit(X, y)\n",
            "/usr/local/lib/python3.7/dist-packages/sklearn/neighbors/_classification.py:198: DataConversionWarning: A column-vector y was passed when a 1d array was expected. Please change the shape of y to (n_samples,), for example using ravel().\n",
            "  return self._fit(X, y)\n",
            "/usr/local/lib/python3.7/dist-packages/sklearn/neighbors/_classification.py:198: DataConversionWarning: A column-vector y was passed when a 1d array was expected. Please change the shape of y to (n_samples,), for example using ravel().\n",
            "  return self._fit(X, y)\n",
            "/usr/local/lib/python3.7/dist-packages/sklearn/neighbors/_classification.py:198: DataConversionWarning: A column-vector y was passed when a 1d array was expected. Please change the shape of y to (n_samples,), for example using ravel().\n",
            "  return self._fit(X, y)\n"
          ]
        }
      ],
      "source": [
        "print(\"Resultados para classificador KNN na década 90's\")\n",
        "for k in [3,5,7,10,33]:\n",
        "  modelo = KNeighborsClassifier(n_neighbors=k)\n",
        "  modelo.fit(X_train90,y_train90)\n",
        "  predito90 = modelo.predict(X_test90)\n",
        "  conf_mx90 = confusion_matrix(y_test90, predito90) \n",
        "  print('Acurácia do modelo com',k,\"vizinhos foi de\", (round(accuracy_score(y_test90, predito90),2))*100,\"%.\")\n",
        "  print(\"Matriz de confusão detalhada do KNN,considerando\",k,\"vizinhos:\\n\",conf_mx90)"
      ]
    },
    {
      "cell_type": "markdown",
      "metadata": {
        "id": "91C6z7FrBwHK"
      },
      "source": [
        "Achando o melhor número de vizinhos para a década 00s"
      ]
    },
    {
      "cell_type": "code",
      "execution_count": null,
      "metadata": {
        "id": "n81WRCZTBtw7",
        "colab": {
          "base_uri": "https://localhost:8080/"
        },
        "outputId": "63a33300-530e-4f1a-d7d0-fdb27e9e8148"
      },
      "outputs": [
        {
          "output_type": "stream",
          "name": "stdout",
          "text": [
            "Resultados para classificador KNN na década 00's:\n"
          ]
        },
        {
          "output_type": "stream",
          "name": "stderr",
          "text": [
            "/usr/local/lib/python3.7/dist-packages/sklearn/neighbors/_classification.py:198: DataConversionWarning: A column-vector y was passed when a 1d array was expected. Please change the shape of y to (n_samples,), for example using ravel().\n",
            "  return self._fit(X, y)\n"
          ]
        },
        {
          "output_type": "stream",
          "name": "stdout",
          "text": [
            "Acurácia do modelo com 3 vizinhos foi de 77.0 %.\n",
            "Matriz de confusão detalhada do KNN,considerando 3 vizinhos:\n",
            " [[158   4   9   3  10]\n",
            " [ 13 100   6  18   0]\n",
            " [ 20   9 102   8   2]\n",
            " [ 10  17  17 117   0]\n",
            " [  2   2   0   0  36]]\n",
            "Acurácia do modelo com 5 vizinhos foi de 77.0 %.\n",
            "Matriz de confusão detalhada do KNN,considerando 5 vizinhos:\n",
            " [[163   1   8   4   8]\n",
            " [ 12 100   4  21   0]\n",
            " [ 20   9  96  14   2]\n",
            " [ 10  12  22 117   0]\n",
            " [  3   4   0   1  32]]\n",
            "Acurácia do modelo com 7 vizinhos foi de 74.0 %.\n",
            "Matriz de confusão detalhada do KNN,considerando 7 vizinhos:\n",
            " [[167   1   8   3   5]\n",
            " [ 10  90   7  29   1]\n",
            " [ 21  14  89  14   3]\n",
            " [ 11  14  20 116   0]\n",
            " [  3   6   1   1  29]]\n",
            "Acurácia do modelo com 10 vizinhos foi de 72.0 %.\n",
            "Matriz de confusão detalhada do KNN,considerando 10 vizinhos:\n",
            " [[167   2   9   3   3]\n",
            " [ 11  89   7  29   1]\n",
            " [ 22  14  86  15   4]\n",
            " [ 12  20  17 112   0]\n",
            " [  5   6   1   2  26]]\n"
          ]
        },
        {
          "output_type": "stream",
          "name": "stderr",
          "text": [
            "/usr/local/lib/python3.7/dist-packages/sklearn/neighbors/_classification.py:198: DataConversionWarning: A column-vector y was passed when a 1d array was expected. Please change the shape of y to (n_samples,), for example using ravel().\n",
            "  return self._fit(X, y)\n",
            "/usr/local/lib/python3.7/dist-packages/sklearn/neighbors/_classification.py:198: DataConversionWarning: A column-vector y was passed when a 1d array was expected. Please change the shape of y to (n_samples,), for example using ravel().\n",
            "  return self._fit(X, y)\n",
            "/usr/local/lib/python3.7/dist-packages/sklearn/neighbors/_classification.py:198: DataConversionWarning: A column-vector y was passed when a 1d array was expected. Please change the shape of y to (n_samples,), for example using ravel().\n",
            "  return self._fit(X, y)\n",
            "/usr/local/lib/python3.7/dist-packages/sklearn/neighbors/_classification.py:198: DataConversionWarning: A column-vector y was passed when a 1d array was expected. Please change the shape of y to (n_samples,), for example using ravel().\n",
            "  return self._fit(X, y)\n"
          ]
        },
        {
          "output_type": "stream",
          "name": "stdout",
          "text": [
            "Acurácia do modelo com 33 vizinhos foi de 67.0 %.\n",
            "Matriz de confusão detalhada do KNN,considerando 33 vizinhos:\n",
            " [[147   1  24   8   4]\n",
            " [ 11  71   8  47   0]\n",
            " [ 15  12  93  17   4]\n",
            " [  1  13  22 125   0]\n",
            " [ 10   6   1  14   9]]\n"
          ]
        }
      ],
      "source": [
        "print(\"Resultados para classificador KNN na década 00's:\")\n",
        "for k in [3,5,7,10,33]:\n",
        "  modelo = KNeighborsClassifier(n_neighbors=k)\n",
        "  modelo.fit(X_train00,y_train00)\n",
        "  predito00 = modelo.predict(X_test00)\n",
        "  conf_mx00 = confusion_matrix(y_test00, predito00)\n",
        "  print('Acurácia do modelo com',k,\"vizinhos foi de\", (round(accuracy_score(y_test00, predito00),2))*100,\"%.\")\n",
        "  print(\"Matriz de confusão detalhada do KNN,considerando\",k,\"vizinhos:\\n\",conf_mx00)"
      ]
    },
    {
      "cell_type": "markdown",
      "source": [
        "#Cômite"
      ],
      "metadata": {
        "id": "YDnOQP69o9gO"
      }
    },
    {
      "cell_type": "code",
      "source": [
        "tot_amr = 0\n",
        "tot_eur = 0\n",
        "tot_asi = 0\n",
        "tot_oce = 0\n",
        "tot_afr = 0\n",
        "\n",
        "dados_br = dados.loc[(dados['Entity'] == 'Brazil') & (dados['Year']==1995)]\n",
        "dados_br = dados_br[['Air pollution (total) (deaths per 100,000)','Indoor air pollution (deaths per 100,000)',\n",
        "           'Outdoor particulate matter (deaths per 100,000)','Outdoor ozone pollution (deaths per 100,000)']]\n",
        "#Árvore de decisão\n",
        "pred_arv = modeloARV90.predict(dados_br)\n",
        "print(pred_arv)\n",
        "\n",
        "#Modelo Naive bayes Gaussiano\n",
        "pred_modeloGau_o = modeloGau_o.predict(dados_br)\n",
        "print(pred_modeloGau_o)\n",
        "\n",
        "#Modelo Naive bayes Multinomial\n",
        "pred_modeloM_o = modeloM_o.predict(dados_br)\n",
        "\n",
        "#Modelo Naive bayes Bernoulli\n",
        "pred_modeloB_o = modeloB_o.predict(dados_br)\n",
        "print(pred_modeloB_o)\n",
        "\n",
        "#Modelo SVM Linear\n",
        "pred_svm_l_o = svm_l_o.predict(dados_br)\n",
        "print(pred_svm_l_o)\n",
        "\n",
        "#Modelo SVM Polinomial\n",
        "pred_svm_p_o = svm_p_o.predict(dados_br)\n",
        "print(pred_svm_p_o)\n",
        "\n",
        "#Modelo SVM RBF Gaussiano\n",
        "pred_svm_r_o = svm_r_o.predict(dados_br)\n",
        "print(pred_svm_r_o)\n",
        "\n",
        "#Modelo KNN\n",
        "\n",
        "modelo_KNN = KNeighborsClassifier(n_neighbors=3)\n",
        "modelo_KNN.fit(X_train90,y_train90)\n",
        "predito90 = modelo.predict(X_test90)\n",
        "pred_modelo_KNN = modelo_KNN.predict(dados_br)\n",
        "print(pred_modelo_KNN)\n"
      ],
      "metadata": {
        "colab": {
          "base_uri": "https://localhost:8080/"
        },
        "id": "FZ4glmBzpBC-",
        "outputId": "6f885ab0-bd57-48ac-ce6e-b3e07f41e26d"
      },
      "execution_count": null,
      "outputs": [
        {
          "output_type": "stream",
          "name": "stdout",
          "text": [
            "['America']\n",
            "['Europa']\n",
            "['Asia']\n",
            "['America']\n",
            "['Europa']\n",
            "['America']\n",
            "['America']\n",
            "['America']\n"
          ]
        },
        {
          "output_type": "stream",
          "name": "stderr",
          "text": [
            "/usr/local/lib/python3.7/dist-packages/sklearn/neighbors/_classification.py:198: DataConversionWarning: A column-vector y was passed when a 1d array was expected. Please change the shape of y to (n_samples,), for example using ravel().\n",
            "  return self._fit(X, y)\n"
          ]
        }
      ]
    },
    {
      "cell_type": "code",
      "source": [
        "print('Como os nossos dados que rodamos é do Brasil de 1995, por tanto o continente é a \"America\"\\n', ['America'],['Europa'],['Asia'],\n",
        "      ['America'],['Europa'],['America'],['America'],['America'], '\\ntendo um acerto de 62,5%')"
      ],
      "metadata": {
        "colab": {
          "base_uri": "https://localhost:8080/"
        },
        "id": "f4FPDlA6xQEF",
        "outputId": "63971266-3ba9-49f1-e84d-8f77d4ce1fe3"
      },
      "execution_count": null,
      "outputs": [
        {
          "output_type": "stream",
          "name": "stdout",
          "text": [
            "Como os nossos dados que rodamos é do Brasil de 1995, por tanto o continente é a \"America\"\n",
            " ['America'] ['Europa'] ['Asia'] ['America'] ['Europa'] ['America'] ['America'] ['America'] \n",
            "tendo um acerto de 62,5%\n"
          ]
        }
      ]
    }
  ],
  "metadata": {
    "colab": {
      "name": "CômiteFinal.ipynb",
      "provenance": [],
      "collapsed_sections": []
    },
    "kernelspec": {
      "display_name": "Python 3",
      "name": "python3"
    },
    "language_info": {
      "name": "python"
    }
  },
  "nbformat": 4,
  "nbformat_minor": 0
}